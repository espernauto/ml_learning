{
 "cells": [
  {
   "cell_type": "code",
   "execution_count": 3,
   "id": "53e67552",
   "metadata": {
    "scrolled": true
   },
   "outputs": [
    {
     "name": "stdout",
     "output_type": "stream",
     "text": [
      "             Survived  Pclass  \\\n",
      "PassengerId                     \n",
      "1                   0       3   \n",
      "2                   1       1   \n",
      "3                   1       3   \n",
      "4                   1       1   \n",
      "5                   0       3   \n",
      "6                   0       3   \n",
      "7                   0       1   \n",
      "8                   0       3   \n",
      "9                   1       3   \n",
      "10                  1       2   \n",
      "\n",
      "                                                          Name     Sex   Age  \\\n",
      "PassengerId                                                                    \n",
      "1                                      Braund, Mr. Owen Harris    male  22.0   \n",
      "2            Cumings, Mrs. John Bradley (Florence Briggs Th...  female  38.0   \n",
      "3                                       Heikkinen, Miss. Laina  female  26.0   \n",
      "4                 Futrelle, Mrs. Jacques Heath (Lily May Peel)  female  35.0   \n",
      "5                                     Allen, Mr. William Henry    male  35.0   \n",
      "6                                             Moran, Mr. James    male   NaN   \n",
      "7                                      McCarthy, Mr. Timothy J    male  54.0   \n",
      "8                               Palsson, Master. Gosta Leonard    male   2.0   \n",
      "9            Johnson, Mrs. Oscar W (Elisabeth Vilhelmina Berg)  female  27.0   \n",
      "10                         Nasser, Mrs. Nicholas (Adele Achem)  female  14.0   \n",
      "\n",
      "             SibSp  Parch            Ticket     Fare Cabin Embarked  \n",
      "PassengerId                                                          \n",
      "1                1      0         A/5 21171   7.2500   NaN        S  \n",
      "2                1      0          PC 17599  71.2833   C85        C  \n",
      "3                0      0  STON/O2. 3101282   7.9250   NaN        S  \n",
      "4                1      0            113803  53.1000  C123        S  \n",
      "5                0      0            373450   8.0500   NaN        S  \n",
      "6                0      0            330877   8.4583   NaN        Q  \n",
      "7                0      0             17463  51.8625   E46        S  \n",
      "8                3      1            349909  21.0750   NaN        S  \n",
      "9                0      2            347742  11.1333   NaN        S  \n",
      "10               1      0            237736  30.0708   NaN        C  \n"
     ]
    }
   ],
   "source": [
    "import numpy as np\n",
    "\n",
    "import pandas\n",
    "\n",
    "data = pandas.read_csv('titanic.csv', index_col='PassengerId')\n",
    "print(data[:10])"
   ]
  },
  {
   "cell_type": "code",
   "execution_count": 4,
   "id": "d47ec036",
   "metadata": {},
   "outputs": [],
   "source": [
    "from sklearn.tree import DecisionTreeClassifier"
   ]
  },
  {
   "cell_type": "code",
   "execution_count": 6,
   "id": "a2d7aa8c",
   "metadata": {},
   "outputs": [],
   "source": [
    "#выделим нужные столбцы\n",
    "needed=data[['Pclass', 'Fare', 'Age', 'Sex', 'Survived']]"
   ]
  },
  {
   "cell_type": "code",
   "execution_count": 7,
   "id": "71f277a9",
   "metadata": {},
   "outputs": [
    {
     "name": "stdout",
     "output_type": "stream",
     "text": [
      "             Pclass     Fare   Age     Sex  Survived\n",
      "PassengerId                                         \n",
      "1                 3   7.2500  22.0    male         0\n",
      "2                 1  71.2833  38.0  female         1\n",
      "3                 3   7.9250  26.0  female         1\n",
      "4                 1  53.1000  35.0  female         1\n",
      "5                 3   8.0500  35.0    male         0\n",
      "6                 3   8.4583   NaN    male         0\n",
      "7                 1  51.8625  54.0    male         0\n",
      "8                 3  21.0750   2.0    male         0\n",
      "9                 3  11.1333  27.0  female         1\n",
      "10                2  30.0708  14.0  female         1\n"
     ]
    }
   ],
   "source": [
    "print(needed[:10])"
   ]
  },
  {
   "cell_type": "code",
   "execution_count": 8,
   "id": "fcf2aee7",
   "metadata": {},
   "outputs": [],
   "source": [
    "#уберем наны\n",
    "sorted = needed[np.isnan(data['Age']) != True]"
   ]
  },
  {
   "cell_type": "code",
   "execution_count": 9,
   "id": "4d9d08cf",
   "metadata": {
    "scrolled": false
   },
   "outputs": [
    {
     "name": "stdout",
     "output_type": "stream",
     "text": [
      "             Pclass     Fare   Age     Sex  Survived\n",
      "PassengerId                                         \n",
      "1                 3   7.2500  22.0    male         0\n",
      "2                 1  71.2833  38.0  female         1\n",
      "3                 3   7.9250  26.0  female         1\n",
      "4                 1  53.1000  35.0  female         1\n",
      "5                 3   8.0500  35.0    male         0\n",
      "...             ...      ...   ...     ...       ...\n",
      "886               3  29.1250  39.0  female         0\n",
      "887               2  13.0000  27.0    male         0\n",
      "888               1  30.0000  19.0  female         1\n",
      "890               1  30.0000  26.0    male         1\n",
      "891               3   7.7500  32.0    male         0\n",
      "\n",
      "[714 rows x 5 columns]\n"
     ]
    }
   ],
   "source": [
    "print(sorted)"
   ]
  },
  {
   "cell_type": "code",
   "execution_count": 45,
   "id": "680c4aa8",
   "metadata": {},
   "outputs": [],
   "source": [
    "sorted.loc['Sex', 0] = 'male'"
   ]
  },
  {
   "cell_type": "code",
   "execution_count": 55,
   "id": "43114bba",
   "metadata": {},
   "outputs": [
    {
     "name": "stdout",
     "output_type": "stream",
     "text": [
      "male\n"
     ]
    }
   ],
   "source": [
    "print(sorted.at[1, 'Sex'])"
   ]
  },
  {
   "cell_type": "code",
   "execution_count": 63,
   "id": "eb8ab00e",
   "metadata": {},
   "outputs": [],
   "source": [
    "#actually it doesn't work\n",
    "for k in sorted['Sex']:\n",
    "    if k == 'male':\n",
    "        k = '1'\n",
    "    else:\n",
    "        k = '0'"
   ]
  },
  {
   "cell_type": "code",
   "execution_count": 75,
   "id": "4be7a63e",
   "metadata": {},
   "outputs": [
    {
     "name": "stderr",
     "output_type": "stream",
     "text": [
      "C:\\ProgramData\\Anaconda3\\lib\\site-packages\\pandas\\core\\indexing.py:1720: SettingWithCopyWarning: \n",
      "A value is trying to be set on a copy of a slice from a DataFrame.\n",
      "Try using .loc[row_indexer,col_indexer] = value instead\n",
      "\n",
      "See the caveats in the documentation: https://pandas.pydata.org/pandas-docs/stable/user_guide/indexing.html#returning-a-view-versus-a-copy\n",
      "  self._setitem_single_column(loc, value, pi)\n"
     ]
    }
   ],
   "source": [
    "#and this does\n",
    "sorted.loc[sorted['Sex'] == 'male', 'Sex'] = 1\n",
    "sorted.loc[sorted['Sex'] == 'female', 'Sex'] = 0"
   ]
  },
  {
   "cell_type": "code",
   "execution_count": 76,
   "id": "84e2ffde",
   "metadata": {},
   "outputs": [
    {
     "name": "stdout",
     "output_type": "stream",
     "text": [
      "PassengerId\n",
      "1      1\n",
      "2      0\n",
      "3      0\n",
      "4      0\n",
      "5      1\n",
      "      ..\n",
      "886    0\n",
      "887    1\n",
      "888    0\n",
      "890    1\n",
      "891    1\n",
      "Name: Sex, Length: 714, dtype: object\n"
     ]
    }
   ],
   "source": [
    "print(sorted['Sex'])"
   ]
  },
  {
   "cell_type": "code",
   "execution_count": 100,
   "id": "b81d6280",
   "metadata": {},
   "outputs": [
    {
     "data": {
      "text/plain": [
       "DecisionTreeClassifier(random_state=241)"
      ]
     },
     "execution_count": 100,
     "metadata": {},
     "output_type": "execute_result"
    }
   ],
   "source": [
    "X = np.array([sorted['Pclass'], sorted['Fare'], sorted['Age'], sorted['Sex']])\n",
    "X_t=X.transpose()\n",
    "y = np.array(sorted['Survived'])\n",
    "clf = DecisionTreeClassifier(random_state=241)\n",
    "clf.fit(X_t, y)"
   ]
  },
  {
   "cell_type": "code",
   "execution_count": 101,
   "id": "57d6e06a",
   "metadata": {},
   "outputs": [
    {
     "name": "stdout",
     "output_type": "stream",
     "text": [
      "[0.14000522 0.30343647 0.2560461  0.30051221]\n"
     ]
    }
   ],
   "source": [
    "importances = clf.feature_importances_\n",
    "print(importances)"
   ]
  },
  {
   "cell_type": "code",
   "execution_count": 105,
   "id": "1dd7b467",
   "metadata": {
    "scrolled": false
   },
   "outputs": [
    {
     "name": "stdout",
     "output_type": "stream",
     "text": [
      "[[3 1 3 ... 1 1 3]\n",
      " [7.25 71.2833 7.925 ... 30.0 30.0 7.75]\n",
      " [22.0 38.0 26.0 ... 19.0 26.0 32.0]\n",
      " [1 0 0 ... 0 1 1]]\n"
     ]
    }
   ],
   "source": [
    "X_е = np.array(sorted[['Pclass', 'Fare', 'Age', 'Sex']])\n",
    "print(X)"
   ]
  },
  {
   "cell_type": "code",
   "execution_count": 11,
   "id": "1a7b7232",
   "metadata": {},
   "outputs": [
    {
     "data": {
      "text/plain": [
       "-0.5541824708598451"
      ]
     },
     "execution_count": 11,
     "metadata": {},
     "output_type": "execute_result"
    }
   ],
   "source": [
    "sorted['Pclass'].corr(sorted['Fare'])"
   ]
  }
 ],
 "metadata": {
  "kernelspec": {
   "display_name": "Python 3",
   "language": "python",
   "name": "python3"
  },
  "language_info": {
   "codemirror_mode": {
    "name": "ipython",
    "version": 3
   },
   "file_extension": ".py",
   "mimetype": "text/x-python",
   "name": "python",
   "nbconvert_exporter": "python",
   "pygments_lexer": "ipython3",
   "version": "3.8.8"
  }
 },
 "nbformat": 4,
 "nbformat_minor": 5
}
