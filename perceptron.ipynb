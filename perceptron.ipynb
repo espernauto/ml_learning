{
 "cells": [
  {
   "cell_type": "code",
   "execution_count": 1,
   "id": "e677b311",
   "metadata": {},
   "outputs": [],
   "source": [
    "import numpy as np\n",
    "import pandas\n",
    "from sklearn.linear_model import Perceptron"
   ]
  },
  {
   "cell_type": "code",
   "execution_count": 2,
   "id": "9ee0818d",
   "metadata": {},
   "outputs": [
    {
     "name": "stdout",
     "output_type": "stream",
     "text": [
      "0     -1.0\n",
      "1      1.0\n",
      "2     -1.0\n",
      "3     -1.0\n",
      "4      1.0\n",
      "      ... \n",
      "195   -1.0\n",
      "196    1.0\n",
      "197    1.0\n",
      "198   -1.0\n",
      "199    1.0\n",
      "Name: 0, Length: 200, dtype: float64\n",
      "            1            2\n",
      "0    1.651437  1337.453826\n",
      "1   -0.866495  1191.232457\n",
      "2    0.789828  -475.647768\n",
      "3    0.179549  1959.095353\n",
      "4   -0.434351   568.504207\n",
      "..        ...          ...\n",
      "195  1.150206  2559.850231\n",
      "196 -0.732462   159.748695\n",
      "197  0.412912 -1587.206427\n",
      "198 -0.098685   682.034777\n",
      "199  0.760949 -1577.448794\n",
      "\n",
      "[200 rows x 2 columns]\n"
     ]
    }
   ],
   "source": [
    "train = pandas.read_csv('perceptron-train.csv', header = None)\n",
    "test = pandas.read_csv('perceptron-test.csv', header = None)\n",
    "train_signs = train.loc[:, 1:3]\n",
    "train_classifier = train[0]\n",
    "test_signs = test.loc[:, 1:3]\n",
    "test_classifier = test[0]\n",
    "print(test_classifier)\n",
    "print(test_signs)"
   ]
  },
  {
   "cell_type": "code",
   "execution_count": 3,
   "id": "e9318067",
   "metadata": {},
   "outputs": [
    {
     "name": "stdout",
     "output_type": "stream",
     "text": [
      "0.655\n"
     ]
    }
   ],
   "source": [
    "X_train = np.array(train_signs)\n",
    "y_train = np.array(train_classifier)\n",
    "clf = Perceptron(max_iter=5, tol=None, random_state = 241)\n",
    "clf.fit(X_train, y_train)\n",
    "X_test = np.array(test_signs)\n",
    "y_test = np.array(test_classifier)\n",
    "predictions = clf.predict(X_test)\n",
    "from sklearn.metrics import accuracy_score\n",
    "result_1 = accuracy_score(y_test, predictions)\n",
    "print(result_1)"
   ]
  },
  {
   "cell_type": "code",
   "execution_count": 4,
   "id": "89bdd159",
   "metadata": {},
   "outputs": [
    {
     "name": "stdout",
     "output_type": "stream",
     "text": [
      "0.84\n",
      "0.18499999999999994\n"
     ]
    }
   ],
   "source": [
    "from sklearn.preprocessing import StandardScaler\n",
    "scaler = StandardScaler()\n",
    "X_train_scaled = scaler.fit_transform(X_train)\n",
    "X_test_scaled = scaler.transform(X_test)\n",
    "#clf = Perceptron(max_iter=5, tol=None, random_state = 241)\n",
    "clf.fit(X_train_scaled, y_train)\n",
    "predictions = clf.predict(X_test_scaled)\n",
    "from sklearn.metrics import accuracy_score\n",
    "result_2 = accuracy_score(y_test, predictions)\n",
    "print(result_2)\n",
    "print(result_2 - result_1)"
   ]
  }
 ],
 "metadata": {
  "kernelspec": {
   "display_name": "Python 3",
   "language": "python",
   "name": "python3"
  },
  "language_info": {
   "codemirror_mode": {
    "name": "ipython",
    "version": 3
   },
   "file_extension": ".py",
   "mimetype": "text/x-python",
   "name": "python",
   "nbconvert_exporter": "python",
   "pygments_lexer": "ipython3",
   "version": "3.8.8"
  }
 },
 "nbformat": 4,
 "nbformat_minor": 5
}
