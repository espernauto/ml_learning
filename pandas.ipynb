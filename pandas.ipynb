{
 "cells": [
  {
   "cell_type": "code",
   "execution_count": 1,
   "id": "19d1ae37",
   "metadata": {
    "scrolled": true
   },
   "outputs": [
    {
     "name": "stdout",
     "output_type": "stream",
     "text": [
      "             Survived  Pclass  \\\n",
      "PassengerId                     \n",
      "1                   0       3   \n",
      "2                   1       1   \n",
      "3                   1       3   \n",
      "4                   1       1   \n",
      "5                   0       3   \n",
      "6                   0       3   \n",
      "7                   0       1   \n",
      "8                   0       3   \n",
      "9                   1       3   \n",
      "10                  1       2   \n",
      "\n",
      "                                                          Name     Sex   Age  \\\n",
      "PassengerId                                                                    \n",
      "1                                      Braund, Mr. Owen Harris    male  22.0   \n",
      "2            Cumings, Mrs. John Bradley (Florence Briggs Th...  female  38.0   \n",
      "3                                       Heikkinen, Miss. Laina  female  26.0   \n",
      "4                 Futrelle, Mrs. Jacques Heath (Lily May Peel)  female  35.0   \n",
      "5                                     Allen, Mr. William Henry    male  35.0   \n",
      "6                                             Moran, Mr. James    male   NaN   \n",
      "7                                      McCarthy, Mr. Timothy J    male  54.0   \n",
      "8                               Palsson, Master. Gosta Leonard    male   2.0   \n",
      "9            Johnson, Mrs. Oscar W (Elisabeth Vilhelmina Berg)  female  27.0   \n",
      "10                         Nasser, Mrs. Nicholas (Adele Achem)  female  14.0   \n",
      "\n",
      "             SibSp  Parch            Ticket     Fare Cabin Embarked  \n",
      "PassengerId                                                          \n",
      "1                1      0         A/5 21171   7.2500   NaN        S  \n",
      "2                1      0          PC 17599  71.2833   C85        C  \n",
      "3                0      0  STON/O2. 3101282   7.9250   NaN        S  \n",
      "4                1      0            113803  53.1000  C123        S  \n",
      "5                0      0            373450   8.0500   NaN        S  \n",
      "6                0      0            330877   8.4583   NaN        Q  \n",
      "7                0      0             17463  51.8625   E46        S  \n",
      "8                3      1            349909  21.0750   NaN        S  \n",
      "9                0      2            347742  11.1333   NaN        S  \n",
      "10               1      0            237736  30.0708   NaN        C  \n"
     ]
    }
   ],
   "source": [
    "import numpy as np\n",
    "\n",
    "import pandas\n",
    "\n",
    "data = pandas.read_csv('titanic.csv', index_col='PassengerId')\n",
    "print(data[:10])"
   ]
  },
  {
   "cell_type": "code",
   "execution_count": 2,
   "id": "167ff479",
   "metadata": {},
   "outputs": [
    {
     "data": {
      "text/plain": [
       "PassengerId\n",
       "1    male\n",
       "Name: Sex, dtype: object"
      ]
     },
     "execution_count": 2,
     "metadata": {},
     "output_type": "execute_result"
    }
   ],
   "source": [
    "data[0:1]['Sex']"
   ]
  },
  {
   "cell_type": "code",
   "execution_count": 3,
   "id": "b3c3b9c4",
   "metadata": {},
   "outputs": [
    {
     "data": {
      "text/plain": [
       "891"
      ]
     },
     "execution_count": 3,
     "metadata": {},
     "output_type": "execute_result"
    }
   ],
   "source": [
    "data.shape[0]"
   ]
  },
  {
   "cell_type": "code",
   "execution_count": 4,
   "id": "5dfc4e1c",
   "metadata": {},
   "outputs": [
    {
     "name": "stdout",
     "output_type": "stream",
     "text": [
      "577\n",
      "314\n"
     ]
    }
   ],
   "source": [
    "i=0\n",
    "j=0\n",
    "for k in range(data.shape[0]):\n",
    "    if data[k:k+1]['Sex'].item() == 'male':\n",
    "        i=i+1\n",
    "    else:\n",
    "        j=j+1\n",
    "print (i)\n",
    "print (j)"
   ]
  },
  {
   "cell_type": "code",
   "execution_count": 5,
   "id": "4440e0fe",
   "metadata": {},
   "outputs": [
    {
     "name": "stdout",
     "output_type": "stream",
     "text": [
      "0.3838383838383838\n"
     ]
    }
   ],
   "source": [
    "i=0\n",
    "for k in range(data.shape[0]):\n",
    "    if data[k:k+1]['Survived'].item() == 1:\n",
    "        i+=1\n",
    "print (float(i)/float(data.shape[0]))"
   ]
  },
  {
   "cell_type": "code",
   "execution_count": 7,
   "id": "22a2396f",
   "metadata": {},
   "outputs": [
    {
     "data": {
      "text/html": [
       "<div>\n",
       "<style scoped>\n",
       "    .dataframe tbody tr th:only-of-type {\n",
       "        vertical-align: middle;\n",
       "    }\n",
       "\n",
       "    .dataframe tbody tr th {\n",
       "        vertical-align: top;\n",
       "    }\n",
       "\n",
       "    .dataframe thead th {\n",
       "        text-align: right;\n",
       "    }\n",
       "</style>\n",
       "<table border=\"1\" class=\"dataframe\">\n",
       "  <thead>\n",
       "    <tr style=\"text-align: right;\">\n",
       "      <th></th>\n",
       "      <th>Survived</th>\n",
       "      <th>Pclass</th>\n",
       "      <th>Name</th>\n",
       "      <th>Sex</th>\n",
       "      <th>Age</th>\n",
       "      <th>SibSp</th>\n",
       "      <th>Parch</th>\n",
       "      <th>Ticket</th>\n",
       "      <th>Fare</th>\n",
       "      <th>Cabin</th>\n",
       "      <th>Embarked</th>\n",
       "    </tr>\n",
       "    <tr>\n",
       "      <th>PassengerId</th>\n",
       "      <th></th>\n",
       "      <th></th>\n",
       "      <th></th>\n",
       "      <th></th>\n",
       "      <th></th>\n",
       "      <th></th>\n",
       "      <th></th>\n",
       "      <th></th>\n",
       "      <th></th>\n",
       "      <th></th>\n",
       "      <th></th>\n",
       "    </tr>\n",
       "  </thead>\n",
       "  <tbody>\n",
       "    <tr>\n",
       "      <th>1</th>\n",
       "      <td>0</td>\n",
       "      <td>3</td>\n",
       "      <td>Braund, Mr. Owen Harris</td>\n",
       "      <td>male</td>\n",
       "      <td>22.0</td>\n",
       "      <td>1</td>\n",
       "      <td>0</td>\n",
       "      <td>A/5 21171</td>\n",
       "      <td>7.2500</td>\n",
       "      <td>NaN</td>\n",
       "      <td>S</td>\n",
       "    </tr>\n",
       "    <tr>\n",
       "      <th>5</th>\n",
       "      <td>0</td>\n",
       "      <td>3</td>\n",
       "      <td>Allen, Mr. William Henry</td>\n",
       "      <td>male</td>\n",
       "      <td>35.0</td>\n",
       "      <td>0</td>\n",
       "      <td>0</td>\n",
       "      <td>373450</td>\n",
       "      <td>8.0500</td>\n",
       "      <td>NaN</td>\n",
       "      <td>S</td>\n",
       "    </tr>\n",
       "    <tr>\n",
       "      <th>6</th>\n",
       "      <td>0</td>\n",
       "      <td>3</td>\n",
       "      <td>Moran, Mr. James</td>\n",
       "      <td>male</td>\n",
       "      <td>NaN</td>\n",
       "      <td>0</td>\n",
       "      <td>0</td>\n",
       "      <td>330877</td>\n",
       "      <td>8.4583</td>\n",
       "      <td>NaN</td>\n",
       "      <td>Q</td>\n",
       "    </tr>\n",
       "    <tr>\n",
       "      <th>7</th>\n",
       "      <td>0</td>\n",
       "      <td>1</td>\n",
       "      <td>McCarthy, Mr. Timothy J</td>\n",
       "      <td>male</td>\n",
       "      <td>54.0</td>\n",
       "      <td>0</td>\n",
       "      <td>0</td>\n",
       "      <td>17463</td>\n",
       "      <td>51.8625</td>\n",
       "      <td>E46</td>\n",
       "      <td>S</td>\n",
       "    </tr>\n",
       "    <tr>\n",
       "      <th>8</th>\n",
       "      <td>0</td>\n",
       "      <td>3</td>\n",
       "      <td>Palsson, Master. Gosta Leonard</td>\n",
       "      <td>male</td>\n",
       "      <td>2.0</td>\n",
       "      <td>3</td>\n",
       "      <td>1</td>\n",
       "      <td>349909</td>\n",
       "      <td>21.0750</td>\n",
       "      <td>NaN</td>\n",
       "      <td>S</td>\n",
       "    </tr>\n",
       "    <tr>\n",
       "      <th>...</th>\n",
       "      <td>...</td>\n",
       "      <td>...</td>\n",
       "      <td>...</td>\n",
       "      <td>...</td>\n",
       "      <td>...</td>\n",
       "      <td>...</td>\n",
       "      <td>...</td>\n",
       "      <td>...</td>\n",
       "      <td>...</td>\n",
       "      <td>...</td>\n",
       "      <td>...</td>\n",
       "    </tr>\n",
       "    <tr>\n",
       "      <th>884</th>\n",
       "      <td>0</td>\n",
       "      <td>2</td>\n",
       "      <td>Banfield, Mr. Frederick James</td>\n",
       "      <td>male</td>\n",
       "      <td>28.0</td>\n",
       "      <td>0</td>\n",
       "      <td>0</td>\n",
       "      <td>C.A./SOTON 34068</td>\n",
       "      <td>10.5000</td>\n",
       "      <td>NaN</td>\n",
       "      <td>S</td>\n",
       "    </tr>\n",
       "    <tr>\n",
       "      <th>885</th>\n",
       "      <td>0</td>\n",
       "      <td>3</td>\n",
       "      <td>Sutehall, Mr. Henry Jr</td>\n",
       "      <td>male</td>\n",
       "      <td>25.0</td>\n",
       "      <td>0</td>\n",
       "      <td>0</td>\n",
       "      <td>SOTON/OQ 392076</td>\n",
       "      <td>7.0500</td>\n",
       "      <td>NaN</td>\n",
       "      <td>S</td>\n",
       "    </tr>\n",
       "    <tr>\n",
       "      <th>887</th>\n",
       "      <td>0</td>\n",
       "      <td>2</td>\n",
       "      <td>Montvila, Rev. Juozas</td>\n",
       "      <td>male</td>\n",
       "      <td>27.0</td>\n",
       "      <td>0</td>\n",
       "      <td>0</td>\n",
       "      <td>211536</td>\n",
       "      <td>13.0000</td>\n",
       "      <td>NaN</td>\n",
       "      <td>S</td>\n",
       "    </tr>\n",
       "    <tr>\n",
       "      <th>890</th>\n",
       "      <td>1</td>\n",
       "      <td>1</td>\n",
       "      <td>Behr, Mr. Karl Howell</td>\n",
       "      <td>male</td>\n",
       "      <td>26.0</td>\n",
       "      <td>0</td>\n",
       "      <td>0</td>\n",
       "      <td>111369</td>\n",
       "      <td>30.0000</td>\n",
       "      <td>C148</td>\n",
       "      <td>C</td>\n",
       "    </tr>\n",
       "    <tr>\n",
       "      <th>891</th>\n",
       "      <td>0</td>\n",
       "      <td>3</td>\n",
       "      <td>Dooley, Mr. Patrick</td>\n",
       "      <td>male</td>\n",
       "      <td>32.0</td>\n",
       "      <td>0</td>\n",
       "      <td>0</td>\n",
       "      <td>370376</td>\n",
       "      <td>7.7500</td>\n",
       "      <td>NaN</td>\n",
       "      <td>Q</td>\n",
       "    </tr>\n",
       "  </tbody>\n",
       "</table>\n",
       "<p>577 rows × 11 columns</p>\n",
       "</div>"
      ],
      "text/plain": [
       "             Survived  Pclass                            Name   Sex   Age  \\\n",
       "PassengerId                                                                 \n",
       "1                   0       3         Braund, Mr. Owen Harris  male  22.0   \n",
       "5                   0       3        Allen, Mr. William Henry  male  35.0   \n",
       "6                   0       3                Moran, Mr. James  male   NaN   \n",
       "7                   0       1         McCarthy, Mr. Timothy J  male  54.0   \n",
       "8                   0       3  Palsson, Master. Gosta Leonard  male   2.0   \n",
       "...               ...     ...                             ...   ...   ...   \n",
       "884                 0       2   Banfield, Mr. Frederick James  male  28.0   \n",
       "885                 0       3          Sutehall, Mr. Henry Jr  male  25.0   \n",
       "887                 0       2           Montvila, Rev. Juozas  male  27.0   \n",
       "890                 1       1           Behr, Mr. Karl Howell  male  26.0   \n",
       "891                 0       3             Dooley, Mr. Patrick  male  32.0   \n",
       "\n",
       "             SibSp  Parch            Ticket     Fare Cabin Embarked  \n",
       "PassengerId                                                          \n",
       "1                1      0         A/5 21171   7.2500   NaN        S  \n",
       "5                0      0            373450   8.0500   NaN        S  \n",
       "6                0      0            330877   8.4583   NaN        Q  \n",
       "7                0      0             17463  51.8625   E46        S  \n",
       "8                3      1            349909  21.0750   NaN        S  \n",
       "...            ...    ...               ...      ...   ...      ...  \n",
       "884              0      0  C.A./SOTON 34068  10.5000   NaN        S  \n",
       "885              0      0   SOTON/OQ 392076   7.0500   NaN        S  \n",
       "887              0      0            211536  13.0000   NaN        S  \n",
       "890              0      0            111369  30.0000  C148        C  \n",
       "891              0      0            370376   7.7500   NaN        Q  \n",
       "\n",
       "[577 rows x 11 columns]"
      ]
     },
     "execution_count": 7,
     "metadata": {},
     "output_type": "execute_result"
    }
   ],
   "source": [
    "data[data['Sex'] == 'male']"
   ]
  },
  {
   "cell_type": "code",
   "execution_count": 9,
   "id": "b539c29f",
   "metadata": {},
   "outputs": [
    {
     "data": {
      "text/plain": [
       "0    61.616162\n",
       "1    38.383838\n",
       "Name: Survived, dtype: float64"
      ]
     },
     "execution_count": 9,
     "metadata": {},
     "output_type": "execute_result"
    }
   ],
   "source": [
    "data['Survived'].value_counts(normalize=True)*100"
   ]
  },
  {
   "cell_type": "code",
   "execution_count": 61,
   "id": "69bffe9d",
   "metadata": {},
   "outputs": [
    {
     "data": {
      "text/plain": [
       "3    491\n",
       "1    216\n",
       "2    184\n",
       "Name: Pclass, dtype: int64"
      ]
     },
     "execution_count": 61,
     "metadata": {},
     "output_type": "execute_result"
    }
   ],
   "source": [
    "data['Pclass'].value_counts()"
   ]
  },
  {
   "cell_type": "code",
   "execution_count": 70,
   "id": "4b4bb427",
   "metadata": {},
   "outputs": [
    {
     "data": {
      "text/plain": [
       "29.69911764705882"
      ]
     },
     "execution_count": 70,
     "metadata": {},
     "output_type": "execute_result"
    }
   ],
   "source": [
    "import numpy\n",
    "np.mean(data['Age'])\n",
    "#np.median(data['Age'])"
   ]
  },
  {
   "cell_type": "code",
   "execution_count": 73,
   "id": "43d97d9c",
   "metadata": {},
   "outputs": [
    {
     "data": {
      "text/plain": [
       "28.0"
      ]
     },
     "execution_count": 73,
     "metadata": {},
     "output_type": "execute_result"
    }
   ],
   "source": [
    "np.nanmedian(data['Age'])"
   ]
  },
  {
   "cell_type": "code",
   "execution_count": 74,
   "id": "38f4a939",
   "metadata": {},
   "outputs": [
    {
     "data": {
      "text/plain": [
       "0.4148376986201567"
      ]
     },
     "execution_count": 74,
     "metadata": {},
     "output_type": "execute_result"
    }
   ],
   "source": [
    "data['SibSp'].corr(data['Parch'])"
   ]
  },
  {
   "cell_type": "code",
   "execution_count": 134,
   "id": "61976e9f",
   "metadata": {},
   "outputs": [
    {
     "data": {
      "text/plain": [
       "['PassengerId',\n",
       " '2',\n",
       " 'Cumings,',\n",
       " 'Mrs.',\n",
       " 'John',\n",
       " 'Bradley',\n",
       " '(Florence',\n",
       " 'Briggs',\n",
       " 'Th...',\n",
       " 'Name:',\n",
       " 'Name,',\n",
       " 'dtype:',\n",
       " 'object']"
      ]
     },
     "execution_count": 134,
     "metadata": {},
     "output_type": "execute_result"
    }
   ],
   "source": [
    "import re\n",
    "\n",
    "str(data[1:2]['Name']).split()"
   ]
  },
  {
   "cell_type": "code",
   "execution_count": 43,
   "id": "a660e178",
   "metadata": {},
   "outputs": [
    {
     "name": "stdout",
     "output_type": "stream",
     "text": [
      "[('William', 15)]\n"
     ]
    }
   ],
   "source": [
    "from collections import Counter\n",
    "a=[]\n",
    "for k in range(data.shape[0]):\n",
    "    if str(data[k:k+1]['Name']).split()[3] == 'Mrs.' or str(data[k:k+1]['Name']).split()[3] == 'Miss.':\n",
    "        i=4\n",
    "        while str(data[k:k+1]['Name']).split()[i] != 'Name:' and i<8:\n",
    "                a.append(str(data[k:k+1]['Name']).split()[i])\n",
    "                i+=1\n",
    "\n",
    "print(Counter(a).most_common(1))\n",
    "#print(sorted(a,key=a.count,reverse=True))\n",
    "\n"
   ]
  },
  {
   "cell_type": "code",
   "execution_count": 29,
   "id": "a827621e",
   "metadata": {},
   "outputs": [
    {
     "name": "stdout",
     "output_type": "stream",
     "text": [
      "557\n"
     ]
    }
   ],
   "source": [
    "i=0\n",
    "for k in data['Name']:\n",
    "    if 'Mr.' in k.split():\n",
    "        i+=1\n",
    "    else:\n",
    "        if 'Master.' in k.split():\n",
    "            i+=1\n",
    "print (i)\n",
    "\n",
    "\n",
    "    "
   ]
  },
  {
   "cell_type": "code",
   "execution_count": 30,
   "id": "fd973ec9",
   "metadata": {
    "scrolled": true
   },
   "outputs": [
    {
     "name": "stdout",
     "output_type": "stream",
     "text": [
      "Uruchurtu, Don. Manuel E\n",
      "Byles, Rev. Thomas Roussel Davids\n",
      "Bateman, Rev. Robert James\n",
      "Minahan, Dr. William Edward\n",
      "Carter, Rev. Ernest Courtenay\n",
      "Moraweck, Dr. Ernest\n",
      "Aubart, Mme. Leontine Pauline\n",
      "Pain, Dr. Alfred\n",
      "Reynaldo, Ms. Encarnacion\n",
      "Peuchen, Major. Arthur Godfrey\n",
      "Butt, Major. Archibald Willingham\n",
      "Duff Gordon, Lady. (Lucille Christiana Sutherland) (\"Mrs Morgan\")\n",
      "Duff Gordon, Sir. Cosmo Edmund (\"Mr Morgan\")\n",
      "Kirkland, Rev. Charles Leonard\n",
      "Stahelin-Maeglin, Dr. Max\n",
      "Sagesser, Mlle. Emma\n",
      "Simonius-Blumer, Col. Oberst Alfons\n",
      "Frauenthal, Dr. Henry William\n",
      "Weir, Col. John\n",
      "Mayne, Mlle. Berthe Antonine (\"Mrs de Villiers\")\n",
      "Crosby, Capt. Edward Gifford\n",
      "Rothes, the Countess. of (Lucy Noel Martha Dyer-Edwards)\n",
      "Brewe, Dr. Arthur Jackson\n",
      "Leader, Dr. Alice (Farnham)\n",
      "Reuchlin, Jonkheer. John George\n",
      "Harper, Rev. John\n",
      "Montvila, Rev. Juozas\n"
     ]
    }
   ],
   "source": [
    "a=['Mr.', 'Master.', 'Mrs.', 'Miss.']\n",
    "for k in data['Name']:\n",
    "    if not any(i in a for i in k.split()):\n",
    "        print (k)\n",
    "        \n",
    "        \n"
   ]
  },
  {
   "cell_type": "code",
   "execution_count": 31,
   "id": "99cafcd3",
   "metadata": {},
   "outputs": [],
   "source": [
    "data1=data[data['Sex'] == 'female']"
   ]
  },
  {
   "cell_type": "code",
   "execution_count": 34,
   "id": "b1f0a350",
   "metadata": {},
   "outputs": [],
   "source": [
    "data2=data1['Name']"
   ]
  },
  {
   "cell_type": "code",
   "execution_count": 35,
   "id": "836e688d",
   "metadata": {},
   "outputs": [
    {
     "name": "stdout",
     "output_type": "stream",
     "text": [
      "PassengerId\n",
      "2      Cumings, Mrs. John Bradley (Florence Briggs Th...\n",
      "3                                 Heikkinen, Miss. Laina\n",
      "4           Futrelle, Mrs. Jacques Heath (Lily May Peel)\n",
      "9      Johnson, Mrs. Oscar W (Elisabeth Vilhelmina Berg)\n",
      "10                   Nasser, Mrs. Nicholas (Adele Achem)\n",
      "                             ...                        \n",
      "881         Shelley, Mrs. William (Imanita Parrish Hall)\n",
      "883                         Dahlberg, Miss. Gerda Ulrika\n",
      "886                 Rice, Mrs. William (Margaret Norton)\n",
      "888                         Graham, Miss. Margaret Edith\n",
      "889             Johnston, Miss. Catherine Helen \"Carrie\"\n",
      "Name: Name, Length: 314, dtype: object\n"
     ]
    }
   ],
   "source": [
    "print(data2)"
   ]
  },
  {
   "cell_type": "code",
   "execution_count": 47,
   "id": "50573e64",
   "metadata": {
    "scrolled": false
   },
   "outputs": [
    {
     "name": "stdout",
     "output_type": "stream",
     "text": [
      "['', 'John', 'Bradley', 'Florence', 'Briggs', 'Thayer', '']\n",
      "['', 'Laina']\n",
      "['', 'Jacques', 'Heath', 'Lily', 'May', 'Peel', '']\n",
      "['', 'Oscar', 'W', 'Elisabeth', 'Vilhelmina', 'Berg', '']\n",
      "['', 'Nicholas', 'Adele', 'Achem', '']\n",
      "['', 'Marguerite', 'Rut']\n",
      "['', 'Elizabeth']\n",
      "['', 'Hulda', 'Amanda', 'Adolfina']\n",
      "['', 'Mary', 'D', 'Kingcome', '']\n",
      "['', 'Julius', 'Emelia', 'Maria', 'Vandemoortele', '']\n",
      "['', 'Fatima']\n",
      "['', 'Anna', '\"Annie\"']\n",
      "['', 'Torborg', 'Danira']\n",
      "['', 'Carl', 'Oscar', 'Selma', 'Augusta', 'Emilia', 'Johansson', '']\n",
      "['', 'Ellen', '\"Nellie\"']\n",
      "['', 'William', 'Augustus', 'Marie', 'Eugenie', '']\n",
      "['', 'Mary', 'Agatha']\n",
      "['', 'Augusta', 'Maria']\n",
      "['', 'Jamila']\n",
      "['', 'Johan', 'Johanna', 'Persdotter', 'Larsson', '']\n",
      "['', 'William', 'John', 'Robert', 'Dorothy', 'Ann', 'Wonnacott', '']\n",
      "['', 'Simonne', 'Marie', 'Anne', 'Andree']\n",
      "['', 'Margaret', 'Delia']\n",
      "['', 'Bridget']\n",
      "['', 'Josef', 'Josefine', 'Franchi', '']\n",
      "['', 'Henry', 'Sleeper', 'Myna', 'Haxtun', '']\n",
      "['', 'Lizzie', 'Elizabeth', 'Anne', 'Wilkinson', '']\n",
      "['', 'Emily']\n",
      "['', 'Constance', 'Mirium']\n",
      "['', 'Amelie']\n",
      "['', 'Elizabeth', 'Ramell', '']\n",
      "['', 'Erna', 'Alexandra']\n",
      "['', 'Lillian', 'Amy']\n",
      "['', 'Elizabeth']\n",
      "['', 'Brigdet', 'Delia']\n",
      "['', 'Bertha']\n",
      "['', 'Karl', 'Alfred', 'Maria', 'Mathilda', 'Gustafsson', '']\n",
      "['', 'Mabel', 'Helen']\n",
      "['', 'John', 'T', 'Ada', 'Julia', 'Bone', '']\n",
      "['', 'Matilda']\n",
      "['', 'Anna', 'Kristine']\n",
      "['', 'Bertha']\n",
      "['', 'Hileni']\n",
      "['', 'Katriina']\n",
      "['', 'Malake']\n",
      "['', 'Ellis', 'Anna', 'Maria']\n",
      "['', 'Susan']\n",
      "['', 'Anna']\n",
      "['', 'Alexander', 'A', 'Grace', 'Charity', 'Laury', '']\n",
      "['', 'Leopold', 'Mathilde', 'Francoise', 'Pede', '']\n",
      "['', 'Helen', 'Monypeny']\n",
      "['', 'Joseph', 'Sultana', '']\n",
      "['', 'Anna', 'Sofia']\n",
      "['', 'Pekka', 'Pietari', 'Elin', 'Matilda', 'Dolck', '']\n",
      "['', 'Robina', 'Maggie', '\"Ruby\"']\n",
      "['', 'Thomas', 'Edith', 'Wearne', '']\n",
      "['', 'Katherine', '\"Katie\"']\n",
      "['', 'James', 'Elizabeth', '\"Bessie\"', 'Inglis', 'Milne', '']\n",
      "['', 'Edith', 'Martha', 'Bowerman', '']\n",
      "['', 'William', 'Anna', 'Bernhardina', 'Karlsson', '']\n",
      "['', 'Eleanor', 'Ileen']\n",
      "['', 'Ann', 'Elizabeth']\n",
      "['', 'Constance', 'Gladys']\n",
      "['', 'Luise', 'Gretchen']\n",
      "['', 'Thomas', 'Johanna', '\"Hannah\"', 'Godfrey', '']\n",
      "['', 'Rosa', '']\n",
      "['', 'Carla', 'Christine', 'Nielsine']\n",
      "['', 'James', 'Joseph', 'Margaret', 'Tobin', '']\n",
      "['', 'Elise']\n",
      "['', 'Margaret', '\"Maggie\"']\n",
      "['', 'Henriette', '\"Mrs', 'Harbeck\"', '']\n",
      "['', 'Telma', 'Matilda']\n",
      "['', 'Helen', '\"Ellen\"']\n",
      "['', 'Clear', 'Annie']\n",
      "['', 'Madeleine']\n",
      "['', 'Eliina']\n",
      "['', 'Albina']\n",
      "['', 'Mathilde']\n",
      "['', 'Henry', 'Birkhardt', 'Irene', 'Wallach', '']\n",
      "['', 'Lillian', 'Gertrud']\n",
      "['', 'Alice', 'Phoebe']\n",
      "['', 'Marjorie', '\"Lottie\"']\n",
      "['', 'Thamine']\n",
      "['', 'Katherine', '\"Kate\"']\n",
      "['', 'Agda', 'Thorilda', 'Viktoria']\n",
      "['', 'William', 'Anna', '']\n",
      "['', 'Wilhelm', 'Elna', 'Matilda', 'Persson', '']\n",
      "['', 'Viktor', 'Helena', 'Wilhelmina', '']\n",
      "['', 'Darwis', 'Hanne', 'Youssef', 'Razi', '']\n",
      "['', 'Gertrude', 'Maybelle']\n",
      "['', 'Gladys']\n",
      "['', 'Anna']\n",
      "['', 'Lutie', 'Davis', '']\n",
      "['', 'Delia']\n",
      "['', 'William', 'Thompson', 'Edith', 'Junkins', '']\n",
      "['', 'Amelia']\n",
      "['', 'Elizabeth', 'Anne', 'Maidment', '']\n",
      "['', 'Hanora', '\"Nora\"']\n",
      "['', 'Kornelia', 'Theodosia']\n",
      "['', 'Augusta', 'Charlotta']\n",
      "['', 'Stanton', 'Rosa', 'Hunt', '']\n",
      "['', 'Kate']\n",
      "['', 'Ellen', '\"Nellie\"']\n",
      "['', 'Dickinson', 'H', 'Helen', 'Walton', '']\n",
      "['', 'Aloisia']\n",
      "['', 'Helen', 'Loraine']\n",
      "['', 'James', 'Helene', 'DeLaudeniere', 'Chaput', '']\n",
      "['', 'Anna', 'Katherine', '\"Annie', 'Kate\"']\n",
      "['', 'Nora', 'A']\n",
      "['', 'Margaret']\n",
      "['', 'Victor', 'de', 'Satode', 'Maria', 'Josefa', 'Perez', 'de', 'Soto', 'y', 'Vallejo', '']\n",
      "['', 'Laura', 'Mabel']\n",
      "['', 'Margaret', 'Bechstein']\n",
      "['', 'Emily', 'Borie']\n",
      "['', 'William', 'Anna', 'Sylfven', '']\n",
      "['', 'Helmina', 'Josefina']\n",
      "['', 'Sinai', 'Miriam', 'Sternin', '']\n",
      "['', 'Mary', 'Natalie']\n",
      "['', 'Frederic', 'Oakley', 'Margaretta', 'Corning', 'Stone', '']\n",
      "['', 'Hilda', 'Mary']\n",
      "['', 'Albert', 'Francis', 'Sylvia', 'Mae', 'Harbaugh', '']\n",
      "['', 'Marie', 'Grice']\n",
      "['', 'Ada', 'E', 'Hall', '']\n",
      "['', 'Frank', 'John', 'Emily', 'Alice', 'Brown', '']\n",
      "['', 'Jean', 'Gertrude']\n",
      "['', 'Agnes']\n",
      "['', 'Henry', 'William', 'Clara', 'Heinsheimer', '']\n",
      "['', 'Elizabeth', 'Margaret']\n",
      "['', 'Alice', 'Elizabeth']\n",
      "['', 'Amelia', '\"Mildred\"']\n",
      "['', 'Marion', 'Elsie']\n",
      "['', 'Thomas', 'Henry', 'Mary', 'E', 'Finck', '']\n",
      "['', 'Elsie', 'Edith']\n",
      "['', 'Annie', 'Clemmer']\n",
      "['', 'Mary']\n",
      "['', 'Helen', 'Mary', '\"Ellie\"']\n",
      "['', 'Catherine', 'David', '']\n",
      "['', 'Frank', 'Manley', 'Anna', 'Sophia', 'Atkinson', '']\n",
      "['', 'Mantoura', 'Boulos', '']\n",
      "['', 'Annie']\n",
      "['', 'Leontine', 'Pauline']\n",
      "['', 'Stina', 'Viola']\n",
      "['', 'Edgar', 'Joseph', 'Leila', 'Saks', '']\n",
      "['', 'Aurora', 'Adelia']\n",
      "['', 'Rosalie']\n",
      "['', 'Maria', '\"Mary\"', '']\n",
      "['', 'Alexander', 'Oskar', 'Mary', 'Aline', 'Towner', '']\n",
      "['', 'Kate']\n",
      "['', 'Bertha']\n",
      "['', 'Marjorie']\n",
      "['', 'Hjalmar', 'Agnes', 'Charlotta', 'Bengtsson', '']\n",
      "['', 'Elina']\n",
      "['', 'William', 'H', 'Jessie', 'L', '']\n",
      "['', 'Mari', 'Aina']\n",
      "['', 'Marija']\n",
      "['', 'Ida']\n",
      "['', 'Daisy', 'E']\n",
      "['', 'Thomas', 'Annie', 'Louise', 'Rowley', '']\n",
      "['', 'James', 'Vivian', 'Lulu', 'Thorne', 'Christian', '']\n",
      "['', 'Lyyli', 'Karoliina']\n",
      "['', 'Catharina']\n",
      "['', 'Ernst', 'Gilbert', 'Anna', 'Sigrid', 'Maria', 'Brogren', '']\n",
      "['', 'Charles', 'V', 'Ada', 'Maria', 'Winfield', '']\n",
      "['', 'Kate', 'Florence', '\"Mrs', 'Kate', 'Louise', 'Phillips', 'Marshall\"', '']\n",
      "['', 'Percival', 'Florence', 'Kate', 'White', '']\n",
      "['', 'Charles', 'Alexander', 'Alice', 'Adelaide', 'Slow', '']\n",
      "['', 'Lucile', 'Polk']\n",
      "['', 'Doolina', 'Margaret', '\"Daisy\"']\n",
      "['', 'Sidney', 'Emily', 'Hocking', '']\n",
      "['', 'Benjamin', 'Esther', 'Ada', 'Bloomfield', '']\n",
      "['', 'Encarnacion']\n",
      "['', 'Madeleine', 'Violet']\n",
      "['', 'Marie', 'Catherine']\n",
      "['', 'Frederick', 'R', 'Marion', '']\n",
      "['', 'Ellen']\n",
      "['', 'Helene', 'Barbara']\n",
      "['', 'Edwy', 'Arthur', 'Ada', 'Mary', 'Worth', '']\n",
      "['', 'Amin', 'S', 'Marie', 'Marthe', 'Thuillard', '']\n",
      "['', 'Ida', 'Sofia']\n",
      "['', 'Hildur', 'E']\n",
      "['', 'Hedwig', '']\n",
      "['', 'Jeannie']\n",
      "['', 'Frederick', 'Maxfield', 'Jane', 'Anne', 'Forby', '']\n",
      "['', 'Elizabeth', 'Mussey']\n",
      "['', 'Hudson', 'J', 'C', 'Bessie', 'Waldo', 'Daniels', '']\n",
      "['', 'Mary']\n",
      "['', 'Bridget', 'Mary']\n",
      "['', 'Kristina', 'Sofia']\n",
      "['', 'Roberta']\n",
      "['', 'Frederick', 'Charles', 'Jane', 'Richards', '']\n",
      "['', 'Martin', 'Elizabeth', 'L']\n",
      "['', 'Amelia', 'Milley', '']\n",
      "['', 'William', 'A', 'Florence', '\"Mary\"', 'Agnes', 'Hughes', '']\n",
      "['', 'Anne']\n",
      "['', 'Louis', 'Albert', 'Ida', 'Sophia', 'Fischer', '']\n",
      "['', 'Lucy']\n",
      "['', 'Phyllis', 'May']\n",
      "['', 'Catherine', 'Catherine', 'Rizk', '']\n",
      "['', 'Marija']\n",
      "['', 'Eva', 'Miriam']\n",
      "['', 'Bertha']\n",
      "['', 'Hedwig', 'Margaritha']\n",
      "['', 'Harriet', 'R']\n",
      "['', 'Ingeborg', 'Constanzia']\n",
      "['', 'Sigrid', 'Elisabeth']\n",
      "['', 'Edward', 'Ethel', 'Clarke', '']\n",
      "['', 'Velin']\n",
      "['', 'Lucille', 'Christiana', 'Sutherland', '\"Mrs', 'Morgan\"', '']\n",
      "['', 'Emil', 'Tillie', 'Mandelbaum', '']\n",
      "['', 'Guillaume', 'Joseph', 'Emma', '']\n",
      "['', 'Marion', 'Ogden', '']\n",
      "['', 'Nils', 'Alma', 'Cornelia', 'Berglund', '']\n",
      "['', 'Edward', 'Dale', 'Charlotte', 'Lamson', '']\n",
      "['', 'Mary']\n",
      "['', 'Ethel']\n",
      "['', 'William', 'Baird', 'Alice', 'Munger', '']\n",
      "['', 'Joseph', 'Maria', 'Elias', '']\n",
      "['', 'Julie', 'Rachel']\n",
      "['', 'John', 'Borland', 'Marian', 'Longstreth', 'Morris', '']\n",
      "['', 'Ruth']\n",
      "['', 'Walter', 'Bertram', 'Martha', 'Eustis', '']\n",
      "['', 'Mary']\n",
      "['', 'Jessie', 'Wills']\n",
      "['', 'Sidney', 'Samuel', 'Amy', 'Frances', 'Christy', '']\n",
      "['', 'Joseph', 'Juliette', 'Marie', 'Louise', 'Lafargue', '']\n",
      "['', 'Elizabeth', 'W']\n",
      "['', 'Anders', 'Johan', 'Alfrida', 'Konstantia', 'Brogren', '']\n",
      "['', 'Margaret', 'Jane']\n",
      "['', 'Alice']\n",
      "['', 'William', 'Arthur', 'Cordelia', 'K', 'Stanlick', '']\n",
      "['', 'Marion', 'Louise']\n",
      "['', 'Gretchen', 'Fiske']\n",
      "['', 'Mabel']\n",
      "['', 'Mary']\n",
      "['', 'Juha', 'Maria', 'Emilia', 'Ojala', '']\n",
      "['', 'Emma']\n",
      "['', 'Margit', 'Elizabeth']\n",
      "['', 'Eugenie']\n",
      "['', 'Amy', 'Zillah', 'Elsie']\n",
      "['', 'Elsie']\n",
      "['', 'Hanora', '\"Norah\"']\n",
      "['', 'Hanora', '\"Nora\"']\n",
      "['', 'John', 'Catherine', '']\n",
      "['', 'Elmer', 'Zebley', 'Juliet', 'Cummins', 'Wright', '']\n",
      "['', 'Thomas', 'William', 'Solomon', 'Elizabeth', 'Catherine', 'Ford', '']\n",
      "['', 'Anna', 'Sofia']\n",
      "['', 'Frederick', 'Augusta', 'Tyler', '']\n",
      "['', 'Katie']\n",
      "['', 'Georgette', 'Alexandra']\n",
      "['', 'Manca']\n",
      "['', 'Katherine', '\"Katie\"']\n",
      "['', 'John', 'Jacob', 'Madeleine', 'Talmadge', 'Force', '']\n",
      "['', 'Saiide']\n",
      "['', 'Florence', '\"Fannie\"']\n",
      "['', 'Alice']\n",
      "['', 'Berthe', 'Antonine', '\"Mrs', 'de', 'Villiers\"', '']\n",
      "['', 'Caroline', 'Louise']\n",
      "['', 'Edwina', 'Celia', '\"Winnie\"']\n",
      "['', 'Annie', 'Jessie', '\"Nina\"']\n",
      "['', 'Peter', 'Henry', 'Lillian', 'Jefferys', '']\n",
      "['', 'Margareth']\n",
      "['', 'Pieta', 'Sofia']\n",
      "['', 'Elisabeth', 'Walton']\n",
      "['', 'Edward', 'Margaret', 'Ann', 'Watson', '']\n",
      "['', 'Susan', 'Parker', '\"Suzette\"']\n",
      "['', 'Anna']\n",
      "['', 'Joan']\n",
      "['', 'Samuel', 'Jane', 'Laver', '']\n",
      "['', 'of', 'Lucy', 'Noel', 'Martha', 'Dyer-Edwards', '']\n",
      "['', 'William', 'Ernest', 'Lucile', 'Polk', '']\n",
      "['', 'John', 'C', 'Anna', 'Andrews', '']\n",
      "['', 'Mary']\n",
      "['', 'Mary', '']\n",
      "['', 'Elizabeth', 'Eliza', 'Needs', '']\n",
      "['', 'Virginia', 'Ethel']\n",
      "['', 'Edward', 'Scott', 'Elisabeth', 'Walton', 'McMillan', '']\n",
      "['', 'Banoura']\n",
      "['', 'Albert', 'Adrian', 'Vera', 'Gillespie', '']\n",
      "['', 'Anna', 'Sofia']\n",
      "['', 'Stella', 'Anna']\n",
      "['', 'Alice', 'Farnham', '']\n",
      "['', 'Mara']\n",
      "['', 'Jean', 'Baptiste', 'Rosalie', 'Paula', 'Govaert', '']\n",
      "['', 'Harvey', 'Charlotte', 'Annie', 'Tate', '']\n",
      "['', 'Ellen', 'Natalia']\n",
      "['', 'Norman', 'Campbell', 'Bertha', 'Griggs', '']\n",
      "['', 'Ebba', 'Iris', 'Alfrida']\n",
      "['', 'Wendla', 'Maria']\n",
      "['', 'Charles', 'Melville', 'Clara', 'Jennings', 'Gregg', '']\n",
      "['', 'Beila', '']\n",
      "['', 'George', 'Nelson', 'Martha', 'Evelyn', '']\n",
      "['', 'Antoni', 'Selini', 'Alexander', '']\n",
      "['', 'Sara', 'Rebecca']\n",
      "['', 'Augusta']\n",
      "['', 'Samuel', 'L', 'Edwiga', 'Grabowska', '']\n",
      "['', 'Nourelain']\n",
      "['', 'Mary', 'Conover']\n",
      "['', 'Ernest', 'Courtenay', 'Lilian', 'Hughes', '']\n",
      "['', 'Sam', 'Leah', 'Rosen', '']\n",
      "['', 'George', 'Dennick', 'Mary', 'Hitchcock', '']\n",
      "['', 'Solomon', 'Latifa', 'Qurban', '']\n",
      "['', 'Frederick', 'Joel', 'Margaret', 'Welles', 'Barron', '']\n",
      "['', 'Dorothy', 'Edith', '\"Dolly\"']\n",
      "['', 'Karolina', '']\n",
      "['', 'Asuncion']\n",
      "['', 'Richard', 'Leonard', 'Sallie', 'Monypeny', '']\n",
      "['', 'Samuel', 'Hannah', 'Wizosky', '']\n",
      "['', 'Adele', 'Kiamie', '\"Jane\"']\n",
      "['', 'Thomas', 'Jr', 'Lily', 'Alexenia', 'Wilson', '']\n",
      "['', 'William', 'Imanita', 'Parrish', 'Hall', '']\n",
      "['', 'Gerda', 'Ulrika']\n",
      "['', 'William', 'Margaret', 'Norton', '']\n",
      "['', 'Margaret', 'Edith']\n",
      "['', 'Catherine', 'Helen', '\"Carrie\"']\n"
     ]
    }
   ],
   "source": [
    "import re\n",
    "for k in data2:\n",
    "    k1=k.split(\".\")[1]\n",
    "    k2=re.split(r'[\\(.\\) ]+', k1)\n",
    "    print(k2)\n",
    "    "
   ]
  },
  {
   "cell_type": "code",
   "execution_count": null,
   "id": "a7262f20",
   "metadata": {},
   "outputs": [],
   "source": []
  }
 ],
 "metadata": {
  "kernelspec": {
   "display_name": "Python 3",
   "language": "python",
   "name": "python3"
  },
  "language_info": {
   "codemirror_mode": {
    "name": "ipython",
    "version": 3
   },
   "file_extension": ".py",
   "mimetype": "text/x-python",
   "name": "python",
   "nbconvert_exporter": "python",
   "pygments_lexer": "ipython3",
   "version": "3.8.8"
  }
 },
 "nbformat": 4,
 "nbformat_minor": 5
}
