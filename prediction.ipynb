{
 "cells": [
  {
   "cell_type": "code",
   "execution_count": 131,
   "id": "9b1e1197",
   "metadata": {},
   "outputs": [],
   "source": [
    "import numpy as np\n",
    "import pandas"
   ]
  },
  {
   "cell_type": "code",
   "execution_count": 132,
   "id": "f14537da",
   "metadata": {},
   "outputs": [
    {
     "name": "stdout",
     "output_type": "stream",
     "text": [
      "                                         FullDescription LocationNormalized  \\\n",
      "0      International Sales Manager London ****k  ****...             London   \n",
      "1      An ideal opportunity for an individual that ha...             London   \n",
      "2      Online Content and Brand Manager// Luxury Reta...  South East London   \n",
      "3      A great local marketleader is seeking a perman...            Dereham   \n",
      "4      Registered Nurse / RGN  Nursing Home for Young...   Sutton Coldfield   \n",
      "...                                                  ...                ...   \n",
      "59995  As a result of continued growth, First Class S...        Whitley Bay   \n",
      "59996  PHP / MVC Web Developer  MacclesfieldCirca ***...       Macclesfield   \n",
      "59997  Staff Nurse, Nursing Home, Baldock White Recru...            Baldock   \n",
      "59998  This is one of the best agency side opportunit...           The City   \n",
      "59999  Must have CSCS card must have asbestos awarene...             London   \n",
      "\n",
      "      ContractTime  SalaryNormalized  \n",
      "0        permanent             33000  \n",
      "1        permanent             50000  \n",
      "2        permanent             40000  \n",
      "3        permanent             22500  \n",
      "4              NaN             20355  \n",
      "...            ...               ...  \n",
      "59995     contract             26400  \n",
      "59996    permanent             26000  \n",
      "59997          NaN             24500  \n",
      "59998    permanent             65000  \n",
      "59999          NaN             23040  \n",
      "\n",
      "[60000 rows x 4 columns]\n"
     ]
    }
   ],
   "source": [
    "data = pandas.read_csv('salary-train.csv')\n",
    "print(data)\n",
    "description = data['FullDescription']\n",
    "location = data['LocationNormalized']\n",
    "contract = data['ContractTime']\n",
    "salary = data['SalaryNormalized']\n",
    "#print(contract)"
   ]
  },
  {
   "cell_type": "code",
   "execution_count": 133,
   "id": "242899a1",
   "metadata": {},
   "outputs": [],
   "source": [
    "from sklearn.feature_extraction.text import TfidfVectorizer"
   ]
  },
  {
   "cell_type": "code",
   "execution_count": 134,
   "id": "2df3c657",
   "metadata": {},
   "outputs": [],
   "source": [
    "for k in description:\n",
    "    k = k.lower()"
   ]
  },
  {
   "cell_type": "code",
   "execution_count": 135,
   "id": "21038e6a",
   "metadata": {},
   "outputs": [
    {
     "name": "stdout",
     "output_type": "stream",
     "text": [
      "0        International Sales Manager London ****k  ****...\n",
      "1        An ideal opportunity for an individual that ha...\n",
      "2        Online Content and Brand Manager// Luxury Reta...\n",
      "3        A great local marketleader is seeking a perman...\n",
      "4        Registered Nurse / RGN  Nursing Home for Young...\n",
      "                               ...                        \n",
      "59995    As a result of continued growth, First Class S...\n",
      "59996    PHP / MVC Web Developer  MacclesfieldCirca ***...\n",
      "59997    Staff Nurse, Nursing Home, Baldock White Recru...\n",
      "59998    This is one of the best agency side opportunit...\n",
      "59999    Must have CSCS card must have asbestos awarene...\n",
      "Name: FullDescription, Length: 60000, dtype: object\n"
     ]
    }
   ],
   "source": [
    "print(description)"
   ]
  },
  {
   "cell_type": "code",
   "execution_count": 136,
   "id": "a840d21e",
   "metadata": {},
   "outputs": [],
   "source": [
    "description = description.replace('[^a-zA-Z0-9]', ' ', regex = True)"
   ]
  },
  {
   "cell_type": "code",
   "execution_count": 137,
   "id": "b12324ae",
   "metadata": {
    "scrolled": true
   },
   "outputs": [
    {
     "name": "stdout",
     "output_type": "stream",
     "text": [
      "0        International Sales Manager London     k      ...\n",
      "1        An ideal opportunity for an individual that ha...\n",
      "2        Online Content and Brand Manager   Luxury Reta...\n",
      "3        A great local marketleader is seeking a perman...\n",
      "4        Registered Nurse   RGN  Nursing Home for Young...\n",
      "                               ...                        \n",
      "59995    As a result of continued growth  First Class S...\n",
      "59996    PHP   MVC Web Developer  MacclesfieldCirca    ...\n",
      "59997    Staff Nurse  Nursing Home  Baldock White Recru...\n",
      "59998    This is one of the best agency side opportunit...\n",
      "59999    Must have CSCS card must have asbestos awarene...\n",
      "Name: FullDescription, Length: 60000, dtype: object\n"
     ]
    }
   ],
   "source": [
    "print(description)"
   ]
  },
  {
   "cell_type": "code",
   "execution_count": 138,
   "id": "68239b1f",
   "metadata": {},
   "outputs": [],
   "source": [
    "vectorizer = TfidfVectorizer(min_df = 5)\n",
    "x_train = vectorizer.fit_transform(description)"
   ]
  },
  {
   "cell_type": "code",
   "execution_count": 139,
   "id": "834b83a6",
   "metadata": {},
   "outputs": [
    {
     "name": "stdout",
     "output_type": "stream",
     "text": [
      "  (0, 9611)\t0.04490546953101409\n",
      "  (0, 20413)\t0.0387030844464958\n",
      "  (0, 11722)\t0.024933985634032353\n",
      "  (0, 18451)\t0.05094142801730146\n",
      "  (0, 3350)\t0.02780917325280237\n",
      "  (0, 7709)\t0.051305209532239764\n",
      "  (0, 12171)\t0.019784060664418117\n",
      "  (0, 22197)\t0.020520635156015515\n",
      "  (0, 7323)\t0.07101020149740392\n",
      "  (0, 2650)\t0.03545174285205156\n",
      "  (0, 9932)\t0.056610755716966256\n",
      "  (0, 22668)\t0.02669865026604241\n",
      "  (0, 8484)\t0.06324665355859202\n",
      "  (0, 11621)\t0.052325445744513636\n",
      "  (0, 729)\t0.04195598980714451\n",
      "  (0, 1237)\t0.027657781597657527\n",
      "  (0, 19269)\t0.05547416136056606\n",
      "  (0, 7094)\t0.046308072679393346\n",
      "  (0, 22696)\t0.03842120306776972\n",
      "  (0, 19369)\t0.062300287754603965\n",
      "  (0, 8222)\t0.05853002898579397\n",
      "  (0, 19504)\t0.04001548405514181\n",
      "  (0, 11849)\t0.054256825090476454\n",
      "  (0, 5700)\t0.03416514657651014\n",
      "  (0, 10064)\t0.030482790607819672\n",
      "  :\t:\n",
      "  (59998, 12439)\t0.016958748933464957\n",
      "  (59999, 379)\t0.3987794212412799\n",
      "  (59999, 17671)\t0.3098359244673809\n",
      "  (59999, 13265)\t0.29244142263722717\n",
      "  (59999, 3962)\t0.2883820935634986\n",
      "  (59999, 5274)\t0.2462393628997595\n",
      "  (59999, 3334)\t0.21061449189522577\n",
      "  (59999, 3648)\t0.22594726713367067\n",
      "  (59999, 11904)\t0.17402731328321297\n",
      "  (59999, 1612)\t0.28792899653629384\n",
      "  (59999, 1410)\t0.1293604972387815\n",
      "  (59999, 18693)\t0.189278331537024\n",
      "  (59999, 2396)\t0.15566908372657629\n",
      "  (59999, 13585)\t0.26577907387816974\n",
      "  (59999, 22592)\t0.06452450330737976\n",
      "  (59999, 9851)\t0.16748634948204125\n",
      "  (59999, 1968)\t0.18144279171440908\n",
      "  (59999, 9406)\t0.17323186181941802\n",
      "  (59999, 14776)\t0.12754331599497468\n",
      "  (59999, 17348)\t0.08429189168292081\n",
      "  (59999, 20886)\t0.1634585304883056\n",
      "  (59999, 22438)\t0.05028259142994749\n",
      "  (59999, 2224)\t0.04979139035909137\n",
      "  (59999, 20830)\t0.08664339188506286\n",
      "  (59999, 1270)\t0.04328993444771371\n"
     ]
    }
   ],
   "source": [
    "print(x_train)"
   ]
  },
  {
   "cell_type": "code",
   "execution_count": 140,
   "id": "1f08856d",
   "metadata": {},
   "outputs": [],
   "source": [
    "data['LocationNormalized'].fillna('nan', inplace=True)"
   ]
  },
  {
   "cell_type": "code",
   "execution_count": 141,
   "id": "6295d419",
   "metadata": {},
   "outputs": [],
   "source": [
    "data['ContractTime'].fillna('nan', inplace=True)"
   ]
  },
  {
   "cell_type": "code",
   "execution_count": 142,
   "id": "4e7b3210",
   "metadata": {},
   "outputs": [],
   "source": [
    "from sklearn.feature_extraction import DictVectorizer"
   ]
  },
  {
   "cell_type": "code",
   "execution_count": 144,
   "id": "aabec353",
   "metadata": {},
   "outputs": [],
   "source": [
    "enc = DictVectorizer()\n",
    "X_train_categ = enc.fit_transform(data[['LocationNormalized', 'ContractTime']].to_dict('records'))"
   ]
  },
  {
   "cell_type": "code",
   "execution_count": 145,
   "id": "e488aa3e",
   "metadata": {},
   "outputs": [
    {
     "name": "stdout",
     "output_type": "stream",
     "text": [
      "  (0, 2)\t1.0\n",
      "  (0, 957)\t1.0\n",
      "  (1, 2)\t1.0\n",
      "  (1, 957)\t1.0\n",
      "  (2, 2)\t1.0\n",
      "  (2, 1392)\t1.0\n",
      "  (3, 2)\t1.0\n",
      "  (3, 471)\t1.0\n",
      "  (4, 1)\t1.0\n",
      "  (4, 1495)\t1.0\n",
      "  (5, 1)\t1.0\n",
      "  (5, 422)\t1.0\n",
      "  (6, 2)\t1.0\n",
      "  (6, 1575)\t1.0\n",
      "  (7, 2)\t1.0\n",
      "  (7, 224)\t1.0\n",
      "  (8, 2)\t1.0\n",
      "  (8, 309)\t1.0\n",
      "  (9, 2)\t1.0\n",
      "  (9, 1392)\t1.0\n",
      "  (10, 0)\t1.0\n",
      "  (10, 86)\t1.0\n",
      "  (11, 2)\t1.0\n",
      "  (11, 639)\t1.0\n",
      "  (12, 2)\t1.0\n",
      "  :\t:\n",
      "  (59987, 1411)\t1.0\n",
      "  (59988, 1)\t1.0\n",
      "  (59988, 335)\t1.0\n",
      "  (59989, 2)\t1.0\n",
      "  (59989, 899)\t1.0\n",
      "  (59990, 2)\t1.0\n",
      "  (59990, 44)\t1.0\n",
      "  (59991, 2)\t1.0\n",
      "  (59991, 1665)\t1.0\n",
      "  (59992, 0)\t1.0\n",
      "  (59992, 957)\t1.0\n",
      "  (59993, 1)\t1.0\n",
      "  (59993, 957)\t1.0\n",
      "  (59994, 1)\t1.0\n",
      "  (59994, 679)\t1.0\n",
      "  (59995, 0)\t1.0\n",
      "  (59995, 1691)\t1.0\n",
      "  (59996, 2)\t1.0\n",
      "  (59996, 986)\t1.0\n",
      "  (59997, 1)\t1.0\n",
      "  (59997, 78)\t1.0\n",
      "  (59998, 2)\t1.0\n",
      "  (59998, 1531)\t1.0\n",
      "  (59999, 1)\t1.0\n",
      "  (59999, 957)\t1.0\n"
     ]
    }
   ],
   "source": [
    "print(X_train_categ)"
   ]
  },
  {
   "cell_type": "code",
   "execution_count": 146,
   "id": "43bd5884",
   "metadata": {},
   "outputs": [],
   "source": [
    "from scipy.sparse import hstack"
   ]
  },
  {
   "cell_type": "code",
   "execution_count": 149,
   "id": "60cbeec4",
   "metadata": {},
   "outputs": [],
   "source": [
    "matrix = hstack([x_train, X_train_categ])"
   ]
  },
  {
   "cell_type": "code",
   "execution_count": 150,
   "id": "b7b7deaa",
   "metadata": {},
   "outputs": [
    {
     "name": "stdout",
     "output_type": "stream",
     "text": [
      "  (0, 9611)\t0.04490546953101409\n",
      "  (0, 20413)\t0.0387030844464958\n",
      "  (0, 11722)\t0.024933985634032353\n",
      "  (0, 18451)\t0.05094142801730146\n",
      "  (0, 3350)\t0.02780917325280237\n",
      "  (0, 7709)\t0.051305209532239764\n",
      "  (0, 12171)\t0.019784060664418117\n",
      "  (0, 22197)\t0.020520635156015515\n",
      "  (0, 7323)\t0.07101020149740392\n",
      "  (0, 2650)\t0.03545174285205156\n",
      "  (0, 9932)\t0.056610755716966256\n",
      "  (0, 22668)\t0.02669865026604241\n",
      "  (0, 8484)\t0.06324665355859202\n",
      "  (0, 11621)\t0.052325445744513636\n",
      "  (0, 729)\t0.04195598980714451\n",
      "  (0, 1237)\t0.027657781597657527\n",
      "  (0, 19269)\t0.05547416136056606\n",
      "  (0, 7094)\t0.046308072679393346\n",
      "  (0, 22696)\t0.03842120306776972\n",
      "  (0, 19369)\t0.062300287754603965\n",
      "  (0, 8222)\t0.05853002898579397\n",
      "  (0, 19504)\t0.04001548405514181\n",
      "  (0, 11849)\t0.054256825090476454\n",
      "  (0, 5700)\t0.03416514657651014\n",
      "  (0, 10064)\t0.030482790607819672\n",
      "  :\t:\n",
      "  (59987, 24272)\t1.0\n",
      "  (59988, 22862)\t1.0\n",
      "  (59988, 23196)\t1.0\n",
      "  (59989, 22863)\t1.0\n",
      "  (59989, 23760)\t1.0\n",
      "  (59990, 22863)\t1.0\n",
      "  (59990, 22905)\t1.0\n",
      "  (59991, 22863)\t1.0\n",
      "  (59991, 24526)\t1.0\n",
      "  (59992, 22861)\t1.0\n",
      "  (59992, 23818)\t1.0\n",
      "  (59993, 22862)\t1.0\n",
      "  (59993, 23818)\t1.0\n",
      "  (59994, 22862)\t1.0\n",
      "  (59994, 23540)\t1.0\n",
      "  (59995, 22861)\t1.0\n",
      "  (59995, 24552)\t1.0\n",
      "  (59996, 22863)\t1.0\n",
      "  (59996, 23847)\t1.0\n",
      "  (59997, 22862)\t1.0\n",
      "  (59997, 22939)\t1.0\n",
      "  (59998, 22863)\t1.0\n",
      "  (59998, 24392)\t1.0\n",
      "  (59999, 22862)\t1.0\n",
      "  (59999, 23818)\t1.0\n"
     ]
    }
   ],
   "source": [
    "print(matrix)"
   ]
  },
  {
   "cell_type": "code",
   "execution_count": 151,
   "id": "d36f9de6",
   "metadata": {},
   "outputs": [],
   "source": [
    "from sklearn.linear_model import Ridge"
   ]
  },
  {
   "cell_type": "code",
   "execution_count": 152,
   "id": "2f5307d5",
   "metadata": {},
   "outputs": [
    {
     "data": {
      "text/plain": [
       "Ridge(alpha=1, random_state=241)"
      ]
     },
     "execution_count": 152,
     "metadata": {},
     "output_type": "execute_result"
    }
   ],
   "source": [
    "clf = Ridge(alpha=1, random_state=241)\n",
    "clf.fit(matrix, salary)"
   ]
  },
  {
   "cell_type": "code",
   "execution_count": 153,
   "id": "7a006167",
   "metadata": {},
   "outputs": [
    {
     "name": "stdout",
     "output_type": "stream",
     "text": [
      "                                     FullDescription LocationNormalized  \\\n",
      "0  We currently have a vacancy for an HR Project ...      Milton Keynes   \n",
      "1  A Web developer opportunity has arisen with an...         Manchester   \n",
      "\n",
      "  ContractTime  SalaryNormalized  \n",
      "0     contract               NaN  \n",
      "1    permanent               NaN  \n"
     ]
    }
   ],
   "source": [
    "data_test = pandas.read_csv('salary-test-mini.csv')\n",
    "print(data_test)"
   ]
  },
  {
   "cell_type": "code",
   "execution_count": 160,
   "id": "be1d30e7",
   "metadata": {},
   "outputs": [
    {
     "name": "stdout",
     "output_type": "stream",
     "text": [
      "  (0, 22611)\t0.07076798658158247\n",
      "  (0, 22592)\t0.016591021548534805\n",
      "  (0, 22526)\t0.018415945966083286\n",
      "  (0, 22519)\t0.08730626468795558\n",
      "  (0, 22438)\t0.025858069885677595\n",
      "  (0, 22197)\t0.020397448239528073\n",
      "  (0, 21690)\t0.032536389439527275\n",
      "  (0, 21560)\t0.026408087951643407\n",
      "  (0, 21420)\t0.06158932893422331\n",
      "  (0, 21101)\t0.03730723717240812\n",
      "  (0, 21026)\t0.026712487972516054\n",
      "  (0, 20978)\t0.0702908446569574\n",
      "  (0, 20830)\t0.17822716123272375\n",
      "  (0, 20759)\t0.027699362439400063\n",
      "  (0, 20704)\t0.029046662459520155\n",
      "  (0, 20663)\t0.026624783032779514\n",
      "  (0, 20644)\t0.025288225748652526\n",
      "  (0, 20637)\t0.037955972312494514\n",
      "  (0, 20595)\t0.1586922234233966\n",
      "  (0, 20592)\t0.02014397450874452\n",
      "  (0, 20361)\t0.01701041256661797\n",
      "  (0, 20250)\t0.051652743218131146\n",
      "  (0, 20181)\t0.10992960914813671\n",
      "  (0, 19900)\t0.07160234654903495\n",
      "  (0, 19897)\t0.04497597657873314\n",
      "  :\t:\n",
      "  (1, 5393)\t0.0335306394775892\n",
      "  (1, 5343)\t0.039971685281012755\n",
      "  (1, 5284)\t0.07282195222082213\n",
      "  (1, 4403)\t0.029441389570198533\n",
      "  (1, 4095)\t0.05589163863359445\n",
      "  (1, 4064)\t0.03872308462965789\n",
      "  (1, 4057)\t0.02665913777008868\n",
      "  (1, 3350)\t0.03878292753953019\n",
      "  (1, 2397)\t0.09718882499095947\n",
      "  (1, 2299)\t0.049177752995574184\n",
      "  (1, 2272)\t0.04880083447853211\n",
      "  (1, 2224)\t0.01796264062087948\n",
      "  (1, 2164)\t0.03172415872708448\n",
      "  (1, 1928)\t0.046618806104646936\n",
      "  (1, 1762)\t0.027670684617067523\n",
      "  (1, 1657)\t0.222026293877417\n",
      "  (1, 1606)\t0.01971319922560132\n",
      "  (1, 1537)\t0.06135352821070433\n",
      "  (1, 1518)\t0.0400873111528936\n",
      "  (1, 1413)\t0.0415614962597929\n",
      "  (1, 1280)\t0.11047288356270148\n",
      "  (1, 1270)\t0.21864064070691747\n",
      "  (1, 1237)\t0.038571795351665515\n",
      "  (1, 658)\t0.05999533482115053\n",
      "  (1, 488)\t0.045448708753724774\n"
     ]
    }
   ],
   "source": [
    "for k in data_test['FullDescription']:\n",
    "    k = k.lower()\n",
    "data_test['FullDescription'] = data_test['FullDescription'].replace('[^a-zA-Z0-9]', ' ', regex = True)\n",
    "x_test = vectorizer.transform(data_test['FullDescription'])\n",
    "print(x_test)"
   ]
  },
  {
   "cell_type": "code",
   "execution_count": 161,
   "id": "4ef7e8aa",
   "metadata": {},
   "outputs": [
    {
     "name": "stdout",
     "output_type": "stream",
     "text": [
      "  (0, 0)\t1.0\n",
      "  (0, 1040)\t1.0\n",
      "  (1, 2)\t1.0\n",
      "  (1, 997)\t1.0\n"
     ]
    }
   ],
   "source": [
    "data_test['LocationNormalized'].fillna('nan', inplace=True)\n",
    "data_test['ContractTime'].fillna('nan', inplace=True)\n",
    "X_test_categ = enc.transform(data_test[['LocationNormalized', 'ContractTime']].to_dict('records'))\n",
    "print(X_test_categ)"
   ]
  },
  {
   "cell_type": "code",
   "execution_count": 162,
   "id": "e6ea6564",
   "metadata": {},
   "outputs": [
    {
     "name": "stdout",
     "output_type": "stream",
     "text": [
      "  (0, 22611)\t0.07076798658158247\n",
      "  (0, 22592)\t0.016591021548534805\n",
      "  (0, 22526)\t0.018415945966083286\n",
      "  (0, 22519)\t0.08730626468795558\n",
      "  (0, 22438)\t0.025858069885677595\n",
      "  (0, 22197)\t0.020397448239528073\n",
      "  (0, 21690)\t0.032536389439527275\n",
      "  (0, 21560)\t0.026408087951643407\n",
      "  (0, 21420)\t0.06158932893422331\n",
      "  (0, 21101)\t0.03730723717240812\n",
      "  (0, 21026)\t0.026712487972516054\n",
      "  (0, 20978)\t0.0702908446569574\n",
      "  (0, 20830)\t0.17822716123272375\n",
      "  (0, 20759)\t0.027699362439400063\n",
      "  (0, 20704)\t0.029046662459520155\n",
      "  (0, 20663)\t0.026624783032779514\n",
      "  (0, 20644)\t0.025288225748652526\n",
      "  (0, 20637)\t0.037955972312494514\n",
      "  (0, 20595)\t0.1586922234233966\n",
      "  (0, 20592)\t0.02014397450874452\n",
      "  (0, 20361)\t0.01701041256661797\n",
      "  (0, 20250)\t0.051652743218131146\n",
      "  (0, 20181)\t0.10992960914813671\n",
      "  (0, 19900)\t0.07160234654903495\n",
      "  (0, 19897)\t0.04497597657873314\n",
      "  :\t:\n",
      "  (1, 4095)\t0.05589163863359445\n",
      "  (1, 4064)\t0.03872308462965789\n",
      "  (1, 4057)\t0.02665913777008868\n",
      "  (1, 3350)\t0.03878292753953019\n",
      "  (1, 2397)\t0.09718882499095947\n",
      "  (1, 2299)\t0.049177752995574184\n",
      "  (1, 2272)\t0.04880083447853211\n",
      "  (1, 2224)\t0.01796264062087948\n",
      "  (1, 2164)\t0.03172415872708448\n",
      "  (1, 1928)\t0.046618806104646936\n",
      "  (1, 1762)\t0.027670684617067523\n",
      "  (1, 1657)\t0.222026293877417\n",
      "  (1, 1606)\t0.01971319922560132\n",
      "  (1, 1537)\t0.06135352821070433\n",
      "  (1, 1518)\t0.0400873111528936\n",
      "  (1, 1413)\t0.0415614962597929\n",
      "  (1, 1280)\t0.11047288356270148\n",
      "  (1, 1270)\t0.21864064070691747\n",
      "  (1, 1237)\t0.038571795351665515\n",
      "  (1, 658)\t0.05999533482115053\n",
      "  (1, 488)\t0.045448708753724774\n",
      "  (0, 22861)\t1.0\n",
      "  (0, 23901)\t1.0\n",
      "  (1, 22863)\t1.0\n",
      "  (1, 23858)\t1.0\n"
     ]
    }
   ],
   "source": [
    "matrix_test = hstack([x_test, X_test_categ])\n",
    "print(matrix_test)"
   ]
  },
  {
   "cell_type": "code",
   "execution_count": 165,
   "id": "493a7d46",
   "metadata": {},
   "outputs": [
    {
     "name": "stdout",
     "output_type": "stream",
     "text": [
      "[56571.48138865 37139.25921724]\n"
     ]
    }
   ],
   "source": [
    "prediction = clf.predict(matrix_test)\n",
    "print(prediction)"
   ]
  }
 ],
 "metadata": {
  "kernelspec": {
   "display_name": "Python 3",
   "language": "python",
   "name": "python3"
  },
  "language_info": {
   "codemirror_mode": {
    "name": "ipython",
    "version": 3
   },
   "file_extension": ".py",
   "mimetype": "text/x-python",
   "name": "python",
   "nbconvert_exporter": "python",
   "pygments_lexer": "ipython3",
   "version": "3.8.8"
  }
 },
 "nbformat": 4,
 "nbformat_minor": 5
}
