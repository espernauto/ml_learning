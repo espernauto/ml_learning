{
 "cells": [
  {
   "cell_type": "code",
   "execution_count": 7,
   "id": "91c094dd",
   "metadata": {},
   "outputs": [
    {
     "name": "stdout",
     "output_type": "stream",
     "text": [
      "     -1.0  -0.0246259814315  1174.60023796\n",
      "0     1.0         -0.978058    1083.198803\n",
      "1    -1.0          0.314272   -1472.977609\n",
      "2    -1.0          0.179752     231.017267\n",
      "3     1.0         -1.262544    -778.271726\n",
      "4    -1.0          0.249970     -52.801483\n",
      "..    ...               ...            ...\n",
      "294  -1.0         -0.126438    1861.564124\n",
      "295  -1.0         -0.490972    1815.652064\n",
      "296   1.0         -0.375750    -314.074374\n",
      "297   1.0         -1.861976   -1083.677679\n",
      "298   1.0         -0.039329   -1863.884299\n",
      "\n",
      "[299 rows x 3 columns]\n"
     ]
    },
    {
     "data": {
      "text/plain": [
       "Perceptron(max_iter=5, random_state=241, tol=None)"
      ]
     },
     "execution_count": 7,
     "metadata": {},
     "output_type": "execute_result"
    }
   ],
   "source": [
    "import numpy as np\n",
    "import pandas as pd\n",
    "from sklearn.linear_model import Perceptron\n",
    "from sklearn.metrics import accuracy_score\n",
    "from sklearn.preprocessing import StandardScaler\n",
    "data_train = pd.read_csv('perceptron-train.csv')\n",
    "data_test = pd.read_csv('perceptron-test.csv')\n",
    "print(data_train)\n",
    "\n",
    "X_train = data_train[data_train.columns[1:3]]\n",
    "y_train = data_train[data_train.columns[0]]\n",
    "X_test = data_test[data_test.columns[1:3]]\n",
    "y_test = data_test[data_test.columns[0]]\n",
    "\n",
    "clf = Perceptron(max_iter=5, tol=None, random_state=241)\n",
    "clf.fit(X_train, y_train)"
   ]
  },
  {
   "cell_type": "code",
   "execution_count": 4,
   "id": "9d0a5a3b",
   "metadata": {},
   "outputs": [
    {
     "data": {
      "text/plain": [
       "0.655"
      ]
     },
     "execution_count": 4,
     "metadata": {},
     "output_type": "execute_result"
    }
   ],
   "source": [
    "predictions = clf.predict(X_test)\n",
    "score = accuracy_score(y_test, predictions)\n",
    "score"
   ]
  },
  {
   "cell_type": "code",
   "execution_count": 5,
   "id": "14c0701a",
   "metadata": {
    "scrolled": false
   },
   "outputs": [
    {
     "data": {
      "text/plain": [
       "0.84"
      ]
     },
     "execution_count": 5,
     "metadata": {},
     "output_type": "execute_result"
    }
   ],
   "source": [
    "scaler = StandardScaler()\n",
    "X_train_scaled = scaler.fit_transform(X_train)\n",
    "X_test_scaled = scaler.transform(X_test)\n",
    "\n",
    "clf.fit(X_train_scaled, y_train)\n",
    "predictions = clf.predict(X_test_scaled)\n",
    "scaled_score = accuracy_score(y_test, predictions)\n",
    "scaled_score"
   ]
  },
  {
   "cell_type": "code",
   "execution_count": 6,
   "id": "a241e899",
   "metadata": {},
   "outputs": [
    {
     "name": "stdout",
     "output_type": "stream",
     "text": [
      "0.185\n"
     ]
    }
   ],
   "source": [
    "print('{:.3f}'.format(scaled_score - score))"
   ]
  }
 ],
 "metadata": {
  "kernelspec": {
   "display_name": "Python 3",
   "language": "python",
   "name": "python3"
  },
  "language_info": {
   "codemirror_mode": {
    "name": "ipython",
    "version": 3
   },
   "file_extension": ".py",
   "mimetype": "text/x-python",
   "name": "python",
   "nbconvert_exporter": "python",
   "pygments_lexer": "ipython3",
   "version": "3.8.8"
  }
 },
 "nbformat": 4,
 "nbformat_minor": 5
}
