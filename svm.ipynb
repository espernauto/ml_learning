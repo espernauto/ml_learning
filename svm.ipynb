{
 "cells": [
  {
   "cell_type": "code",
   "execution_count": 1,
   "id": "95450d55",
   "metadata": {},
   "outputs": [],
   "source": [
    "import numpy as np\n",
    "import pandas"
   ]
  },
  {
   "cell_type": "code",
   "execution_count": 2,
   "id": "8ebb5181",
   "metadata": {},
   "outputs": [
    {
     "name": "stdout",
     "output_type": "stream",
     "text": [
      "     0     1     2\n",
      "0  0.0  0.70  0.29\n",
      "1  1.0  0.23  0.55\n",
      "2  0.0  0.72  0.42\n",
      "3  0.0  0.98  0.68\n",
      "4  0.0  0.48  0.39\n",
      "5  1.0  0.34  0.73\n",
      "6  0.0  0.44  0.06\n",
      "7  1.0  0.40  0.74\n",
      "8  0.0  0.18  0.18\n",
      "9  1.0  0.53  0.53\n",
      "0    0.0\n",
      "1    1.0\n",
      "2    0.0\n",
      "3    0.0\n",
      "4    0.0\n",
      "5    1.0\n",
      "6    0.0\n",
      "7    1.0\n",
      "8    0.0\n",
      "9    1.0\n",
      "Name: 0, dtype: float64\n",
      "      1     2\n",
      "0  0.70  0.29\n",
      "1  0.23  0.55\n",
      "2  0.72  0.42\n",
      "3  0.98  0.68\n",
      "4  0.48  0.39\n",
      "5  0.34  0.73\n",
      "6  0.44  0.06\n",
      "7  0.40  0.74\n",
      "8  0.18  0.18\n",
      "9  0.53  0.53\n"
     ]
    }
   ],
   "source": [
    "data = pandas.read_csv('svm-data.csv', header=None)\n",
    "print(data)\n",
    "target = data[0]\n",
    "signs = data.loc[:, 1:2]\n",
    "print(target)\n",
    "print(signs)"
   ]
  },
  {
   "cell_type": "code",
   "execution_count": null,
   "id": "a2eb6b5f",
   "metadata": {},
   "outputs": [],
   "source": [
    "from sklearn.svm import SVC\n",
    "clf = SVC(kernel = 'linear', C = 100000, random_state = 241)\n",
    "clf.fit(signs, target)\n",
    "print(clf.support_)"
   ]
  }
 ],
 "metadata": {
  "kernelspec": {
   "display_name": "Python 3",
   "language": "python",
   "name": "python3"
  },
  "language_info": {
   "codemirror_mode": {
    "name": "ipython",
    "version": 3
   },
   "file_extension": ".py",
   "mimetype": "text/x-python",
   "name": "python",
   "nbconvert_exporter": "python",
   "pygments_lexer": "ipython3",
   "version": "3.8.8"
  }
 },
 "nbformat": 4,
 "nbformat_minor": 5
}
