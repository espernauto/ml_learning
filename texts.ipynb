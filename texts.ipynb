{
 "cells": [
  {
   "cell_type": "code",
   "execution_count": 15,
   "id": "96e4631f",
   "metadata": {},
   "outputs": [],
   "source": [
    "import numpy as np\n",
    "import pandas\n",
    "from matplotlib import pyplot as plt"
   ]
  },
  {
   "cell_type": "code",
   "execution_count": 2,
   "id": "6bd9f7d7",
   "metadata": {},
   "outputs": [],
   "source": [
    "from sklearn import datasets\n",
    "\n",
    "newsgroups = datasets.fetch_20newsgroups(\n",
    "                    subset='all', \n",
    "                    categories=['alt.atheism', 'sci.space']\n",
    "             )"
   ]
  },
  {
   "cell_type": "code",
   "execution_count": 61,
   "id": "304d3ae5",
   "metadata": {},
   "outputs": [
    {
     "name": "stdout",
     "output_type": "stream",
     "text": [
      "From: Alan.Olsen@p17.f40.n105.z1.fidonet.org (Alan Olsen)\n",
      "Subject: some thoughts on Christian books...\n",
      "Lines: 32\n",
      "\n",
      "DN> I think I took on this 'liar, lunatic, or the real thing'\n",
      "DN> the last time. Or was it the time before?  Anyway, let\n",
      "DN> somebody else have a turn.  I can't debate it with a\n",
      "DN> straight face.  Or perhaps for something completely\n",
      "DN> different we could just ridicule him or gather up all the\n",
      "DN> posts from the last two times we did this and email them to\n",
      "DN> him.  As an aside, can you believe that somebody actually\n",
      "DN> got a book published about this?  Must have been a vanity\n",
      "DN> press.\n",
      "\n",
      "I would recomend to anyone out there to visit your local Christian bookstore\n",
      "and become aware of the stuff they sell.\tQuite\n",
      "interesting.  Most of the stuff is far from intelectual.  (About the level of\n",
      "Chick pamphelets...)  If it is a common fundie bookstore, it should have at\n",
      "least one section about how you should hate Wiccans, Pagans, Catholics,\n",
      "Mormons, rock musicians, and anyone else who is not as fanatical as them. \n",
      "(Hate for the \"Love of God(tm)\"!) It is even more interesting watching the\n",
      "people who frequent such places.  Very scary people.  They hear voices from\n",
      "\"God\" telling them whatever they want to hear.  (If they were not Christians,\n",
      "most of them would be locked away.  Maybe this is why Federal money was\n",
      "reduced to Mental institutions by the reagan administration...\tHad to get\n",
      "their religious leaders out...)\n",
      "\n",
      "\"Where would Christianity be if Jesus got eight to fifteen years, with time\n",
      "off for good behavior?\"\n",
      "\t New York State Senator James H. Donovan on Capitol Punishment\n",
      "\n",
      "                   Alan\n",
      "\n",
      "- \"Beware! To touch these wires is instant death! Anyone found doing\n",
      "- this will be prosecuted!\n",
      "\n",
      "\n",
      "[0 0 1 ... 1 1 0]\n"
     ]
    }
   ],
   "source": [
    "print(newsgroups.data[1100])\n",
    "print(newsgroups.target)"
   ]
  },
  {
   "cell_type": "code",
   "execution_count": 4,
   "id": "b8b18ad0",
   "metadata": {},
   "outputs": [],
   "source": [
    "from sklearn.feature_extraction.text import TfidfVectorizer"
   ]
  },
  {
   "cell_type": "code",
   "execution_count": 6,
   "id": "2bfb33e7",
   "metadata": {
    "scrolled": true
   },
   "outputs": [
    {
     "name": "stdout",
     "output_type": "stream",
     "text": [
      "  (0, 7135)\t0.09177291452449737\n",
      "  (0, 4228)\t0.09732962706472328\n",
      "  (0, 7730)\t0.02575006576343587\n",
      "  (0, 10229)\t0.07116022661373511\n",
      "  (0, 19790)\t0.13853387972005007\n",
      "  (0, 15344)\t0.05308005187089393\n",
      "  (0, 20738)\t0.06612072788446571\n",
      "  (0, 23930)\t0.025879967583209106\n",
      "  (0, 7156)\t0.05954839972168062\n",
      "  (0, 17180)\t0.08346610253642223\n",
      "  (0, 21711)\t0.09732962706472328\n",
      "  (0, 26651)\t0.04831465306608014\n",
      "  (0, 23767)\t0.09427154747892712\n",
      "  (0, 18131)\t0.04803011953672212\n",
      "  (0, 27676)\t0.0271693788925225\n",
      "  (0, 5591)\t0.07750026888717974\n",
      "  (0, 16195)\t0.04900248039624845\n",
      "  (0, 4594)\t0.029268293013519193\n",
      "  (0, 21315)\t0.08966035046275332\n",
      "  (0, 5542)\t0.1724324039685429\n",
      "  (0, 19013)\t0.052035390940301\n",
      "  (0, 18071)\t0.029078607779420725\n",
      "  (0, 13384)\t0.09427154747892712\n",
      "  (0, 9776)\t0.05697744713041564\n",
      "  (0, 27786)\t0.09732962706472328\n",
      "  :\t:\n",
      "  (1785, 27676)\t0.04497597829354177\n",
      "  (1785, 18071)\t0.024068250464378153\n",
      "  (1785, 28273)\t0.02370385618179079\n",
      "  (1785, 18954)\t0.016313452448975245\n",
      "  (1785, 12908)\t0.060330997671467546\n",
      "  (1785, 16783)\t0.05810817613161691\n",
      "  (1785, 10000)\t0.021765457638456588\n",
      "  (1785, 12871)\t0.18951149180849122\n",
      "  (1785, 15175)\t0.043493584548029054\n",
      "  (1785, 12104)\t0.015048692197873716\n",
      "  (1785, 25899)\t0.012241087902054174\n",
      "  (1785, 18589)\t0.016491932958211497\n",
      "  (1785, 26915)\t0.08878505107349229\n",
      "  (1785, 15097)\t0.06763710821592854\n",
      "  (1785, 4455)\t0.2211442342147447\n",
      "  (1785, 11147)\t0.18063971661596553\n",
      "  (1785, 15152)\t0.04334651026160963\n",
      "  (1785, 25600)\t0.08190733846988688\n",
      "  (1785, 28268)\t0.016157126889259184\n",
      "  (1785, 4796)\t0.01705536765921036\n",
      "  (1785, 14361)\t0.06134301621684293\n",
      "  (1785, 16346)\t0.011362252752128581\n",
      "  (1785, 24745)\t0.011343193894839195\n",
      "  (1785, 25602)\t0.30431308417481073\n",
      "  (1785, 12328)\t0.011343193894839195\n"
     ]
    }
   ],
   "source": [
    "vectorizer = TfidfVectorizer()\n",
    "X = newsgroups.data\n",
    "x_train = vectorizer.fit_transform(X)\n",
    "print(x_train)"
   ]
  },
  {
   "cell_type": "code",
   "execution_count": 7,
   "id": "a0ede842",
   "metadata": {},
   "outputs": [],
   "source": [
    "from sklearn.svm import SVC\n",
    "from sklearn.model_selection import KFold, cross_val_score\n",
    "from sklearn.model_selection import GridSearchCV"
   ]
  },
  {
   "cell_type": "code",
   "execution_count": 8,
   "id": "0634b779",
   "metadata": {},
   "outputs": [
    {
     "data": {
      "text/plain": [
       "GridSearchCV(cv=KFold(n_splits=5, random_state=241, shuffle=True),\n",
       "             estimator=SVC(kernel='linear', random_state=241),\n",
       "             param_grid={'C': array([1.e-05, 1.e-04, 1.e-03, 1.e-02, 1.e-01, 1.e+00, 1.e+01, 1.e+02,\n",
       "       1.e+03, 1.e+04, 1.e+05])},\n",
       "             scoring='accuracy')"
      ]
     },
     "execution_count": 8,
     "metadata": {},
     "output_type": "execute_result"
    }
   ],
   "source": [
    "y_train = newsgroups.target\n",
    "grid = {'C': np.power(10.0, np.arange(-5, 6))}\n",
    "cv = KFold(n_splits = 5, shuffle = True, random_state = 241)\n",
    "clf = SVC(kernel='linear', random_state=241)\n",
    "gs = GridSearchCV(clf, grid, scoring = 'accuracy', cv = cv)\n",
    "gs.fit(x_train, y_train)"
   ]
  },
  {
   "cell_type": "code",
   "execution_count": 9,
   "id": "4a0f6135",
   "metadata": {},
   "outputs": [
    {
     "name": "stdout",
     "output_type": "stream",
     "text": [
      "{'C': 1.0}\n",
      "5\n"
     ]
    }
   ],
   "source": [
    "print(gs.best_params_)\n",
    "print(gs.best_index_)"
   ]
  },
  {
   "cell_type": "code",
   "execution_count": 18,
   "id": "da4e7efc",
   "metadata": {},
   "outputs": [
    {
     "name": "stdout",
     "output_type": "stream",
     "text": [
      "  (0, 1191)\t0.10682888989503372\n",
      "  (0, 1668)\t0.053216416571889226\n",
      "  (0, 3083)\t0.18354582904899475\n",
      "  (0, 3269)\t0.19465925412944657\n",
      "  (0, 4228)\t0.09732962706472328\n",
      "  (0, 4243)\t0.05335415179534953\n",
      "  (0, 4374)\t0.058104482386025856\n",
      "  (0, 4455)\t0.031432996364324936\n",
      "  (0, 4594)\t0.029268293013519193\n",
      "  (0, 4601)\t0.03925358335267066\n",
      "  (0, 4796)\t0.02060583287638679\n",
      "  (0, 4890)\t0.021242159802601634\n",
      "  (0, 5173)\t0.14700744118874534\n",
      "  (0, 5201)\t0.06044738026255719\n",
      "  (0, 5542)\t0.1724324039685429\n",
      "  (0, 5591)\t0.07750026888717974\n",
      "  (0, 6206)\t0.18354582904899475\n",
      "  (0, 6482)\t0.021551348400438902\n",
      "  (0, 6502)\t0.07047160417050667\n",
      "  (0, 6741)\t0.09587314565925227\n",
      "  (0, 7011)\t0.049308170528445654\n",
      "  (0, 7135)\t0.09177291452449737\n",
      "  (0, 7156)\t0.05954839972168062\n",
      "  (0, 7730)\t0.02575006576343587\n",
      "  (0, 8823)\t0.08966035046275332\n",
      "  :\t:\n",
      "  (1785, 25619)\t0.08290301480038108\n",
      "  (1785, 25644)\t0.096843330276358\n",
      "  (1785, 25649)\t0.020179419147723508\n",
      "  (1785, 25655)\t0.08055935344525442\n",
      "  (1785, 25688)\t0.06676867248947795\n",
      "  (1785, 25692)\t0.030817783466447292\n",
      "  (1785, 25899)\t0.012241087902054174\n",
      "  (1785, 26869)\t0.07136081476752872\n",
      "  (1785, 26915)\t0.08878505107349229\n",
      "  (1785, 26947)\t0.030065850810749983\n",
      "  (1785, 27321)\t0.04306949052249114\n",
      "  (1785, 27618)\t0.03822175975430058\n",
      "  (1785, 27676)\t0.04497597829354177\n",
      "  (1785, 27754)\t0.026301268384428096\n",
      "  (1785, 27792)\t0.019973796709483814\n",
      "  (1785, 27796)\t0.06349831190077615\n",
      "  (1785, 27807)\t0.03071226462279274\n",
      "  (1785, 27818)\t0.023591174521112247\n",
      "  (1785, 27859)\t0.02668745696485146\n",
      "  (1785, 27894)\t0.023572502592789375\n",
      "  (1785, 28096)\t0.020374755727005735\n",
      "  (1785, 28235)\t0.03240843207465689\n",
      "  (1785, 28268)\t0.016157126889259184\n",
      "  (1785, 28273)\t0.02370385618179079\n",
      "  (1785, 28298)\t0.06414667087168414\n",
      "[0 0 1 ... 1 1 0]\n"
     ]
    }
   ],
   "source": [
    "clf = SVC(C = 1, kernel='linear', random_state=241)\n",
    "clf.fit(x_train, y_train)\n",
    "print(x_train)\n",
    "print(y_train)"
   ]
  },
  {
   "cell_type": "code",
   "execution_count": 73,
   "id": "0ba7e539",
   "metadata": {},
   "outputs": [
    {
     "name": "stdout",
     "output_type": "stream",
     "text": [
      "[22936 15606  5776 21850 23673 17802  5093  5088 12871 24019]\n",
      "['keith', 'keith', 'keith', 'keith', 'keith', 'keith', 'keith', 'keith', 'keith', 'keith']\n",
      "keith\n",
      "keith\n",
      "keith\n",
      "keith\n",
      "keith\n",
      "keith\n",
      "keith\n",
      "keith\n",
      "keith\n",
      "keith\n"
     ]
    }
   ],
   "source": [
    "a = np.argsort(np.abs(np.asarray(clf.coef_.todense()))).reshape(-1)[-10:]\n",
    "b = []\n",
    "print(a[0:10])\n",
    "for i in range (10):\n",
    "    b.append(vectorizer.get_feature_names()[a[i]])\n",
    "print(b)\n",
    "b = sorted(sorted(b), key=str.upper)\n",
    "for i in range (10):\n",
    "    print(b[i])\n",
    "\n",
    "#print(clf.coef_[0, 2])"
   ]
  }
 ],
 "metadata": {
  "kernelspec": {
   "display_name": "Python 3",
   "language": "python",
   "name": "python3"
  },
  "language_info": {
   "codemirror_mode": {
    "name": "ipython",
    "version": 3
   },
   "file_extension": ".py",
   "mimetype": "text/x-python",
   "name": "python",
   "nbconvert_exporter": "python",
   "pygments_lexer": "ipython3",
   "version": "3.8.8"
  }
 },
 "nbformat": 4,
 "nbformat_minor": 5
}
