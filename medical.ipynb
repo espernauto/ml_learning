{
 "cells": [
  {
   "cell_type": "code",
   "execution_count": 1,
   "id": "032f052f",
   "metadata": {},
   "outputs": [
    {
     "name": "stdout",
     "output_type": "stream",
     "text": [
      "     age  sex  cp  trestbps  chol  fbs  restecg  thalach  exang  oldpeak  \\\n",
      "0     63    1   3       145   233    1        0      150      0      2.3   \n",
      "1     37    1   2       130   250    0        1      187      0      3.5   \n",
      "2     41    0   1       130   204    0        0      172      0      1.4   \n",
      "3     56    1   1       120   236    0        1      178      0      0.8   \n",
      "4     57    0   0       120   354    0        1      163      1      0.6   \n",
      "..   ...  ...  ..       ...   ...  ...      ...      ...    ...      ...   \n",
      "298   57    0   0       140   241    0        1      123      1      0.2   \n",
      "299   45    1   3       110   264    0        1      132      0      1.2   \n",
      "300   68    1   0       144   193    1        1      141      0      3.4   \n",
      "301   57    1   0       130   131    0        1      115      1      1.2   \n",
      "302   57    0   1       130   236    0        0      174      0      0.0   \n",
      "\n",
      "     slope  ca  thal  target  \n",
      "0        0   0     1       1  \n",
      "1        0   0     2       1  \n",
      "2        2   0     2       1  \n",
      "3        2   0     2       1  \n",
      "4        2   0     2       1  \n",
      "..     ...  ..   ...     ...  \n",
      "298      1   0     3       0  \n",
      "299      1   0     3       0  \n",
      "300      1   2     3       0  \n",
      "301      1   1     3       0  \n",
      "302      1   1     2       0  \n",
      "\n",
      "[303 rows x 14 columns]\n"
     ]
    }
   ],
   "source": [
    "import numpy as np\n",
    "\n",
    "import pandas\n",
    "\n",
    "data = pandas.read_csv('heart.csv')\n",
    "print(data)"
   ]
  },
  {
   "cell_type": "code",
   "execution_count": 2,
   "id": "d53e47c5",
   "metadata": {},
   "outputs": [
    {
     "data": {
      "text/plain": [
       "0"
      ]
     },
     "execution_count": 2,
     "metadata": {},
     "output_type": "execute_result"
    }
   ],
   "source": [
    "data.isnull().values.sum()"
   ]
  },
  {
   "cell_type": "code",
   "execution_count": 3,
   "id": "ceca1d0f",
   "metadata": {},
   "outputs": [],
   "source": [
    "normalized_data=(data-data.min())/(data.max()-data.min())\n",
    "del normalized_data['target']"
   ]
  },
  {
   "cell_type": "code",
   "execution_count": 4,
   "id": "a60c6ed3",
   "metadata": {},
   "outputs": [
    {
     "name": "stdout",
     "output_type": "stream",
     "text": [
      "          age  sex        cp  trestbps      chol  fbs  restecg   thalach  \\\n",
      "0    0.708333  1.0  1.000000  0.481132  0.244292  1.0      0.0  0.603053   \n",
      "1    0.166667  1.0  0.666667  0.339623  0.283105  0.0      0.5  0.885496   \n",
      "2    0.250000  0.0  0.333333  0.339623  0.178082  0.0      0.0  0.770992   \n",
      "3    0.562500  1.0  0.333333  0.245283  0.251142  0.0      0.5  0.816794   \n",
      "4    0.583333  0.0  0.000000  0.245283  0.520548  0.0      0.5  0.702290   \n",
      "..        ...  ...       ...       ...       ...  ...      ...       ...   \n",
      "298  0.583333  0.0  0.000000  0.433962  0.262557  0.0      0.5  0.396947   \n",
      "299  0.333333  1.0  1.000000  0.150943  0.315068  0.0      0.5  0.465649   \n",
      "300  0.812500  1.0  0.000000  0.471698  0.152968  1.0      0.5  0.534351   \n",
      "301  0.583333  1.0  0.000000  0.339623  0.011416  0.0      0.5  0.335878   \n",
      "302  0.583333  0.0  0.333333  0.339623  0.251142  0.0      0.0  0.786260   \n",
      "\n",
      "     exang   oldpeak  slope    ca      thal  \n",
      "0      0.0  0.370968    0.0  0.00  0.333333  \n",
      "1      0.0  0.564516    0.0  0.00  0.666667  \n",
      "2      0.0  0.225806    1.0  0.00  0.666667  \n",
      "3      0.0  0.129032    1.0  0.00  0.666667  \n",
      "4      1.0  0.096774    1.0  0.00  0.666667  \n",
      "..     ...       ...    ...   ...       ...  \n",
      "298    1.0  0.032258    0.5  0.00  1.000000  \n",
      "299    0.0  0.193548    0.5  0.00  1.000000  \n",
      "300    0.0  0.548387    0.5  0.50  1.000000  \n",
      "301    1.0  0.193548    0.5  0.25  1.000000  \n",
      "302    0.0  0.000000    0.5  0.25  0.666667  \n",
      "\n",
      "[303 rows x 13 columns]\n"
     ]
    }
   ],
   "source": [
    "print(normalized_data)"
   ]
  },
  {
   "cell_type": "code",
   "execution_count": 5,
   "id": "60196c34",
   "metadata": {},
   "outputs": [],
   "source": [
    "from sklearn.model_selection import train_test_split, cross_val_score"
   ]
  },
  {
   "cell_type": "code",
   "execution_count": 6,
   "id": "f31d631c",
   "metadata": {
    "scrolled": true
   },
   "outputs": [
    {
     "name": "stdout",
     "output_type": "stream",
     "text": [
      "[[0.625      0.         0.         ... 0.5        0.         0.66666667]\n",
      " [0.52083333 1.         0.33333333 ... 1.         0.25       1.        ]\n",
      " [0.29166667 1.         0.66666667 ... 1.         0.25       0.66666667]\n",
      " ...\n",
      " [0.45833333 0.         0.         ... 0.5        0.         1.        ]\n",
      " [0.         1.         0.33333333 ... 1.         0.         0.66666667]\n",
      " [0.33333333 1.         0.         ... 0.5        0.75       1.        ]]\n"
     ]
    }
   ],
   "source": [
    "X = np.array(normalized_data)\n",
    "Y = np.array(data['target'])\n",
    "X_t = X.transpose()\n",
    "x_train, x_test, y_train, y_test = train_test_split(X, Y)\n",
    "print(x_train)\n"
   ]
  },
  {
   "cell_type": "code",
   "execution_count": 7,
   "id": "53fbb750",
   "metadata": {},
   "outputs": [],
   "source": [
    "import timeit"
   ]
  },
  {
   "cell_type": "code",
   "execution_count": 40,
   "id": "1553c25f",
   "metadata": {},
   "outputs": [
    {
     "name": "stdout",
     "output_type": "stream",
     "text": [
      "6.08 ms ± 61.6 µs per loop (mean ± std. dev. of 7 runs, 100 loops each)\n",
      "6.49 ms ± 97.5 µs per loop (mean ± std. dev. of 7 runs, 100 loops each)\n",
      "6.81 ms ± 36.2 µs per loop (mean ± std. dev. of 7 runs, 100 loops each)\n",
      "7.1 ms ± 23.5 µs per loop (mean ± std. dev. of 7 runs, 100 loops each)\n",
      "7.34 ms ± 49.5 µs per loop (mean ± std. dev. of 7 runs, 100 loops each)\n",
      "7.52 ms ± 97 µs per loop (mean ± std. dev. of 7 runs, 100 loops each)\n",
      "7.58 ms ± 36.4 µs per loop (mean ± std. dev. of 7 runs, 100 loops each)\n",
      "7.59 ms ± 23.7 µs per loop (mean ± std. dev. of 7 runs, 100 loops each)\n",
      "7.6 ms ± 33.4 µs per loop (mean ± std. dev. of 7 runs, 100 loops each)\n",
      "7.68 ms ± 121 µs per loop (mean ± std. dev. of 7 runs, 100 loops each)\n",
      "7.96 ms ± 753 µs per loop (mean ± std. dev. of 7 runs, 100 loops each)\n",
      "8.48 ms ± 589 µs per loop (mean ± std. dev. of 7 runs, 100 loops each)\n",
      "7.79 ms ± 232 µs per loop (mean ± std. dev. of 7 runs, 100 loops each)\n",
      "7.61 ms ± 52.2 µs per loop (mean ± std. dev. of 7 runs, 100 loops each)\n",
      "7.58 ms ± 36.8 µs per loop (mean ± std. dev. of 7 runs, 100 loops each)\n",
      "7.57 ms ± 23.1 µs per loop (mean ± std. dev. of 7 runs, 100 loops each)\n",
      "7.62 ms ± 88.6 µs per loop (mean ± std. dev. of 7 runs, 100 loops each)\n",
      "7.59 ms ± 29.8 µs per loop (mean ± std. dev. of 7 runs, 100 loops each)\n",
      "7.59 ms ± 35.2 µs per loop (mean ± std. dev. of 7 runs, 100 loops each)\n",
      "7.9 ms ± 472 µs per loop (mean ± std. dev. of 7 runs, 100 loops each)\n",
      "[0.7130434782608696, 0.7089855072463769, 0.7578743961352657, 0.7708212560386473, 0.7753623188405797, 0.7490821256038647, 0.7667632850241546, 0.7624154589371981, 0.7624154589371981, 0.7624154589371981, 0.7624154589371981, 0.7624154589371981, 0.7624154589371981, 0.7624154589371981, 0.7624154589371981, 0.7624154589371981, 0.7624154589371981, 0.7624154589371981, 0.7624154589371981, 0.7624154589371981]\n",
      "[0.2710144927536232, 0.13864734299516912, 0.11111111111111105, 0.11111111111111105, 0.0888888888888889, 0.1777777777777778, 0.10483091787439613, 0.1270531400966184, 0.1270531400966184, 0.1270531400966184, 0.1270531400966184, 0.1270531400966184, 0.1270531400966184, 0.1270531400966184, 0.1270531400966184, 0.1270531400966184, 0.1270531400966184, 0.1270531400966184, 0.1270531400966184, 0.1270531400966184]\n",
      "[0.006084894105715648, 0.006493043928572401, 0.006811542735715972, 0.00709573637000046, 0.007342847321427014, 0.007521923928569387, 0.007581200891428515, 0.007589810000003387, 0.007601208691429357, 0.007681895061428545, 0.007964227142857843, 0.008484905772857019, 0.0077933229757153255, 0.007607077324286625, 0.007584591667142117, 0.007569629704286334, 0.007618272975716016, 0.007585105891429131, 0.007586646668573199, 0.00789669654714219]\n"
     ]
    }
   ],
   "source": [
    "from sklearn.tree import DecisionTreeClassifier\n",
    "from sklearn.model_selection import cross_val_score\n",
    "mean = []\n",
    "\n",
    "scatter = []\n",
    "timelist = []\n",
    "time = []\n",
    "\n",
    "for i in range (1, 21):\n",
    "    dtc = DecisionTreeClassifier(random_state = 42, max_depth = i)\n",
    "    r = cross_val_score(dtc, x_train, y_train, scoring = 'accuracy', cv = 5)\n",
    "    scatter.append(r.max()-r.min())\n",
    "    mean.append(r.mean())\n",
    "    a = %timeit -o cross_val_score(dtc, x_train, y_train, scoring = \"accuracy\", cv = 5)\n",
    "    timelist.append(a)\n",
    "print(mean)\n",
    "print(scatter)\n",
    "for i in range (20):\n",
    "    time.append(timelist[i].average)\n",
    "print(time)\n",
    "\n",
    "#print(max)\n",
    "#print(min)"
   ]
  },
  {
   "cell_type": "code",
   "execution_count": 43,
   "id": "7155ea73",
   "metadata": {},
   "outputs": [
    {
     "data": {
      "image/png": "[encoded data removed]",
      "text/plain": [
       "<Figure size 432x288 with 1 Axes>"
      ]
     },
     "metadata": {
      "needs_background": "light"
     },
     "output_type": "display_data"
    },
    {
     "data": {
      "image/png": "[encoded data removed]",
      "text/plain": [
       "<Figure size 432x288 with 1 Axes>"
      ]
     },
     "metadata": {
      "needs_background": "light"
     },
     "output_type": "display_data"
    },
    {
     "data": {
      "image/png": "[encoded data removed]",
      "text/plain": [
       "<Figure size 432x288 with 1 Axes>"
      ]
     },
     "metadata": {
      "needs_background": "light"
     },
     "output_type": "display_data"
    }
   ],
   "source": [
    "import matplotlib.pyplot as plt\n",
    "X = np.linspace(1, 20, 20)\n",
    "Mean = mean\n",
    "Scatter = scatter\n",
    "Time = time\n",
    "plt.plot(X, Mean)\n",
    "plt.show()\n",
    "plt.plot(X, Scatter)\n",
    "plt.show()\n",
    "plt.plot(X, Time)\n",
    "plt.show()\n"
   ]
  },
  {
   "cell_type": "code",
   "execution_count": 55,
   "id": "f89f62df",
   "metadata": {},
   "outputs": [
    {
     "name": "stdout",
     "output_type": "stream",
     "text": [
      "0.7894736842105263\n"
     ]
    }
   ],
   "source": [
    "#i = 5 выглядит весьма перспективно\n",
    "clf = DecisionTreeClassifier(random_state = 42, max_depth = 5)\n",
    "clf.fit(x_train, y_train)\n",
    "predictions = clf.predict(x_test)\n",
    "from sklearn.metrics import accuracy_score\n",
    "result = accuracy_score(y_test, predictions)\n",
    "print(result)"
   ]
  },
  {
   "cell_type": "code",
   "execution_count": 1,
   "id": "84e36945",
   "metadata": {},
   "outputs": [
    {
     "ename": "NameError",
     "evalue": "name 'y_test' is not defined",
     "output_type": "error",
     "traceback": [
      "\u001b[1;31m---------------------------------------------------------------------------\u001b[0m",
      "\u001b[1;31mNameError\u001b[0m                                 Traceback (most recent call last)",
      "\u001b[1;32m<ipython-input-1-451afae64c1d>\u001b[0m in \u001b[0;36m<module>\u001b[1;34m\u001b[0m\n\u001b[0;32m      1\u001b[0m \u001b[1;32mfrom\u001b[0m \u001b[0msklearn\u001b[0m\u001b[1;33m.\u001b[0m\u001b[0mmetrics\u001b[0m \u001b[1;32mimport\u001b[0m \u001b[0mconfusion_matrix\u001b[0m\u001b[1;33m,\u001b[0m \u001b[0mConfusionMatrixDisplay\u001b[0m\u001b[1;33m\u001b[0m\u001b[1;33m\u001b[0m\u001b[0m\n\u001b[1;32m----> 2\u001b[1;33m \u001b[0ma\u001b[0m \u001b[1;33m=\u001b[0m \u001b[0mconfusion_matrix\u001b[0m\u001b[1;33m(\u001b[0m\u001b[0my_test\u001b[0m\u001b[1;33m,\u001b[0m \u001b[0mpredictions\u001b[0m\u001b[1;33m)\u001b[0m\u001b[1;33m\u001b[0m\u001b[1;33m\u001b[0m\u001b[0m\n\u001b[0m\u001b[0;32m      3\u001b[0m \u001b[0mConfusionMatrixDisplay\u001b[0m\u001b[1;33m(\u001b[0m\u001b[0ma\u001b[0m\u001b[1;33m)\u001b[0m\u001b[1;33m.\u001b[0m\u001b[0mplot\u001b[0m\u001b[1;33m(\u001b[0m\u001b[1;33m)\u001b[0m\u001b[1;33m\u001b[0m\u001b[1;33m\u001b[0m\u001b[0m\n",
      "\u001b[1;31mNameError\u001b[0m: name 'y_test' is not defined"
     ]
    }
   ],
   "source": [
    "from sklearn.metrics import confusion_matrix, ConfusionMatrixDisplay\n",
    "a = confusion_matrix(y_test, predictions)\n",
    "ConfusionMatrixDisplay(a).plot()"
   ]
  }
 ],
 "metadata": {
  "kernelspec": {
   "display_name": "Python 3",
   "language": "python",
   "name": "python3"
  },
  "language_info": {
   "codemirror_mode": {
    "name": "ipython",
    "version": 3
   },
   "file_extension": ".py",
   "mimetype": "text/x-python",
   "name": "python",
   "nbconvert_exporter": "python",
   "pygments_lexer": "ipython3",
   "version": "3.8.8"
  }
 },
 "nbformat": 4,
 "nbformat_minor": 5
}
